{
 "cells": [
  {
   "cell_type": "code",
   "execution_count": 1,
   "metadata": {},
   "outputs": [],
   "source": [
    "import numpy as np\n",
    "import pandas as pd\n",
    "from scipy import spatial\n",
    "from random import randint"
   ]
  },
  {
   "cell_type": "code",
   "execution_count": null,
   "metadata": {},
   "outputs": [],
   "source": [
    "# Import English words from https://github.com/jbowens/codenames\n",
    "card_words = pd.read_json('./processing/data/words_v1.json')\n",
    "# 400 words in this dataset\n",
    "card_words.count()"
   ]
  },
  {
   "cell_type": "code",
   "execution_count": null,
   "metadata": {},
   "outputs": [],
   "source": [
    "# Generate pseudo random state\n",
    "state = randint(1, 1000)\n",
    "\n",
    "# Get sample from dataframe\n",
    "friend_series = card_words.sample(n=8, random_state=state)\n",
    "# Drop so there are no duplicates\n",
    "card_words = card_words.drop(friend_series.index)\n",
    "# Convert to set\n",
    "friend = [fr.lower() for fr in friend_series[0].tolist()]\n",
    "\n",
    "foe_series = card_words.sample(n=9, random_state=state)\n",
    "card_words = card_words.drop(foe_series.index)\n",
    "foe = [f.lower() for f in foe_series[0].tolist()]\n",
    "\n",
    "neutral_series = card_words.sample(n=6, random_state=state)\n",
    "card_words = card_words.drop(neutral_series.index)\n",
    "neutral = [n.lower() for n in neutral_series[0].tolist()]\n",
    "\n",
    "assassin_series = card_words.sample(n=1, random_state=state)\n",
    "assassin = [a.lower() for a in assassin_series[0].tolist()]"
   ]
  },
  {
   "cell_type": "code",
   "execution_count": 141,
   "metadata": {},
   "outputs": [
    {
     "name": "stdout",
     "output_type": "stream",
     "text": [
      "['alps', 'kiwi', 'model', 'tablet', 'bank', 'tick', 'lemon', 'degree']\n",
      "['nail', 'amazon', 'court', 'hook', 'robot', 'watch', 'hand', 'missile', 'temple']\n",
      "['penguin', 'code', 'club', 'giant', 'mint', 'soul']\n",
      "['note']\n",
      "set()\n"
     ]
    }
   ],
   "source": [
    "print(friend)\n",
    "print(foe)\n",
    "print(neutral)\n",
    "print(assassin)\n",
    "# Empty intersection set = no duplicates\n",
    "print(set(friend).intersection(set(foe), set(neutral), set(assassin)))"
   ]
  },
  {
   "cell_type": "code",
   "execution_count": 146,
   "metadata": {},
   "outputs": [],
   "source": [
    "# friend = ['apple', 'banana', 'moon']\n",
    "# foe = ['phone', 'text', 'call']\n",
    "# assassin = ['president']"
   ]
  },
  {
   "cell_type": "code",
   "execution_count": 136,
   "metadata": {},
   "outputs": [],
   "source": [
    "# Read in processed data as dataframe\n",
    "vectors = pd.read_pickle('./processing/data/all_vectors.pkl')"
   ]
  },
  {
   "cell_type": "code",
   "execution_count": 165,
   "metadata": {},
   "outputs": [
    {
     "data": {
      "text/plain": [
       "0         AFRICA\n",
       "1          AGENT\n",
       "2            AIR\n",
       "3          ALIEN\n",
       "6      AMBULANCE\n",
       "         ...    \n",
       "395         WHIP\n",
       "396         WIND\n",
       "397        WITCH\n",
       "398         WORM\n",
       "399         YARD\n",
       "Name: 0, Length: 346, dtype: object"
      ]
     },
     "execution_count": 165,
     "metadata": {},
     "output_type": "execute_result"
    }
   ],
   "source": [
    "card_words[0]"
   ]
  },
  {
   "cell_type": "code",
   "execution_count": 171,
   "metadata": {},
   "outputs": [],
   "source": [
    "# game_words = [w.lower() for w in card_words[0].tolist() if w.lower() in all_words]\n",
    "all_words = list(vectors.index.get_level_values(level=0).drop_duplicates())"
   ]
  },
  {
   "cell_type": "code",
   "execution_count": 224,
   "metadata": {},
   "outputs": [],
   "source": [
    "friends = ['apple', 'screen', 'bear', 'superhero', 'cook', 'cricket', 'file', 'calf']\n",
    "foes = ['fence', 'cable', 'pitch', 'nut', 'mountain', 'straw', 'millionaire', 'boot', 'washer']\n",
    "neutrals = ['mug', 'fence', 'skyscraper', 'cliff', 'brush']\n",
    "assassin = ['rabbit']\n",
    "\n",
    "friends = ['apple', 'screen', 'bear', ]\n",
    "foes = ['fence', 'cable', 'pitch', ]\n",
    "neutrals = ['mug', 'fence']\n",
    "assassin = ['rabbit']\n",
    "bad = foes + neutral + assassin"
   ]
  },
  {
   "cell_type": "code",
   "execution_count": 229,
   "metadata": {},
   "outputs": [],
   "source": [
    "constant = 4\n",
    "def distance(source, target, embedding_name='glove'):\n",
    "    return spatial.distance.cosine(vectors.loc[source, embedding_name].to_numpy(), vectors.loc[target, embedding_name].to_numpy())\n",
    "\n",
    "def closest_words(target, embedding_name):\n",
    "    return sorted(vectors.index.get_level_values(0), key=lambda source: distance(source, target, embedding_name))\n",
    "\n",
    "def goodness(word, friends, bad):\n",
    "    if word in friends + bad:\n",
    "        return -999\n",
    "    return sum([distance(word, b) for b in bad]) - constant * sum([distance(word, f) for f in friends])\n",
    "\n",
    "def minimax(word, friends, bad):\n",
    "    if word in friends + bad:\n",
    "        return -999\n",
    "    return min([distance(word, b) for b in bad]) - max([distance(word, f) for f in friends])\n",
    "\n",
    "def candidates(friends, bad, size=100):\n",
    "    best = sorted(all_words, key=lambda word: -1 * goodness(word, friends, bad))\n",
    "    res = [minimax(w, friends, bad) for i, w in enumerate(sorted(best[:250], key=lambda word: -1 * minimax(word, friends, bad))[:size])]\n",
    "    return res"
   ]
  },
  {
   "cell_type": "code",
   "execution_count": 230,
   "metadata": {},
   "outputs": [
    {
     "name": "stdout",
     "output_type": "stream",
     "text": [
      "[0.08798060766080895, 0.07244539010492557, 0.07128717310646349, 0.0641496564904771, 0.05807675681051261, 0.057284568660745494, 0.04954947077142158, 0.04648014051389315, 0.03871736844897278, 0.037356249130429675, 0.03568568980197262, 0.03289462735035997, 0.03259771160511715, 0.02561001472506197, 0.025206115957602693, 0.019483697502809982, 0.01940151406011792, 0.01694502680470167, 0.015515167394504537, 0.01486229428589525, 0.014779386037062747, 0.014323239417787348, 0.01377921884543365, 0.013583296321639904, 0.012661700036340817, 0.00971613284539019, 0.007610876141773915, 0.006785498954120395, 0.006679273580125322, 0.005420367011520932, 0.005407154240274492, 0.0027208125782041126, 0.0016848568991487678, 0.0006772895976365767, -0.0006313179342891662, -0.0009953547066351431, -0.0011714270055168674, -0.0014158518557150224, -0.0022614286959988794, -0.002606448897446656, -0.004978826253277058, -0.00525220681637828, -0.005319993048385818, -0.006963210184908086, -0.007148446689157817, -0.007238145876087954, -0.010354495421266319, -0.011032330675216806, -0.01111268277160149, -0.011986360820447572, -0.012129580185204825, -0.014099151766267415, -0.014148394741482329, -0.014465785112656171, -0.01834474613515924, -0.01848069467577873, -0.01858491543130114, -0.018902675141245773, -0.01905532291815737, -0.01974556848835418, -0.02005052426389009, -0.02079345607849814, -0.021560355251954655, -0.023095257824937487, -0.023369376725506097, -0.023550417121311784, -0.024185029325371032, -0.02466491307659524, -0.024790670866574716, -0.02690630951369788, -0.02721995699456492, -0.02948859670341375, -0.029569034396514926, -0.031323777327336155, -0.031723552774965524, -0.03198158383237715, -0.032216764532644104, -0.032537045793039954, -0.03378209616210304, -0.03421509740412265, -0.036809847538323726, -0.03738964055390781, -0.03748304302052863, -0.03796118326422049, -0.03876163689608303, -0.03880547668781498, -0.04016981791688179, -0.040630623427705514, -0.04093880120196114, -0.04113424439649249, -0.041155575734247773, -0.04214679132315147, -0.042607917784700966, -0.0431884919640525, -0.04342602212907121, -0.04412286021672296, -0.045547168888688816, -0.049582657573033595, -0.0496905028428547, -0.050392723072745005]\n"
     ]
    }
   ],
   "source": [
    "print(candidates(friends, bad))"
   ]
  },
  {
   "cell_type": "code",
   "execution_count": null,
   "metadata": {},
   "outputs": [],
   "source": []
  },
  {
   "cell_type": "code",
   "execution_count": 253,
   "metadata": {},
   "outputs": [],
   "source": [
    "friends = ['apple', 'screen', 'bear']\n",
    "foes = ['fence', 'cable', 'pitch']\n",
    "neutrals = ['mug', 'fence']\n",
    "assassin = 'rabbit'\n",
    "\n",
    "def get_candidates_df():\n",
    "    columns = ['word', 'rank', 'assassin_dist', 'friends_dist', 'foes_dist', 'neutrals_dist']\n",
    "    candidates = pd.DataFrame({'word': all_words, 'rank': [i for i in range(1, len(all_words) + 1)]}, columns=columns)\n",
    "    candidates.assassin_dist = candidates.word.apply(lambda word: distance(word, 'rabbit'))\n",
    "    candidates.friends_dist = candidates.word.apply(lambda word: sum([distance(word, friend) for friend in friends]))\n",
    "    candidates.foes_dist = candidates.word.apply(lambda word: sum([distance(word, foe) for foe in foes]))\n",
    "    candidates.neutrals_dist = candidates.word.apply(lambda word: sum([distance(word, n) for n in neutrals]))\n",
    "    return candidates"
   ]
  },
  {
   "cell_type": "code",
   "execution_count": 254,
   "metadata": {},
   "outputs": [],
   "source": [
    "candidates = get_candidates_df()"
   ]
  },
  {
   "cell_type": "code",
   "execution_count": 258,
   "metadata": {},
   "outputs": [
    {
     "data": {
      "text/html": [
       "<div>\n",
       "<style scoped>\n",
       "    .dataframe tbody tr th:only-of-type {\n",
       "        vertical-align: middle;\n",
       "    }\n",
       "\n",
       "    .dataframe tbody tr th {\n",
       "        vertical-align: top;\n",
       "    }\n",
       "\n",
       "    .dataframe thead th {\n",
       "        text-align: right;\n",
       "    }\n",
       "</style>\n",
       "<table border=\"1\" class=\"dataframe\">\n",
       "  <thead>\n",
       "    <tr style=\"text-align: right;\">\n",
       "      <th></th>\n",
       "      <th>word</th>\n",
       "      <th>rank</th>\n",
       "      <th>assassin_dist</th>\n",
       "      <th>friends_dist</th>\n",
       "      <th>foes_dist</th>\n",
       "      <th>neutrals_dist</th>\n",
       "    </tr>\n",
       "  </thead>\n",
       "  <tbody>\n",
       "    <tr>\n",
       "      <th>25846</th>\n",
       "      <td>Randell</td>\n",
       "      <td>25847</td>\n",
       "      <td>1.231181</td>\n",
       "      <td>3.644422</td>\n",
       "      <td>3.384413</td>\n",
       "      <td>2.248203</td>\n",
       "    </tr>\n",
       "    <tr>\n",
       "      <th>20287</th>\n",
       "      <td>Mohegan</td>\n",
       "      <td>20288</td>\n",
       "      <td>1.225998</td>\n",
       "      <td>3.250139</td>\n",
       "      <td>3.185816</td>\n",
       "      <td>2.149471</td>\n",
       "    </tr>\n",
       "    <tr>\n",
       "      <th>28382</th>\n",
       "      <td>Fultz</td>\n",
       "      <td>28383</td>\n",
       "      <td>1.205677</td>\n",
       "      <td>3.521329</td>\n",
       "      <td>3.059045</td>\n",
       "      <td>2.132518</td>\n",
       "    </tr>\n",
       "    <tr>\n",
       "      <th>27656</th>\n",
       "      <td>Ismaili</td>\n",
       "      <td>27657</td>\n",
       "      <td>1.201379</td>\n",
       "      <td>3.396440</td>\n",
       "      <td>3.376065</td>\n",
       "      <td>2.216903</td>\n",
       "    </tr>\n",
       "    <tr>\n",
       "      <th>27056</th>\n",
       "      <td>Hibernia</td>\n",
       "      <td>27057</td>\n",
       "      <td>1.200992</td>\n",
       "      <td>3.530811</td>\n",
       "      <td>3.081055</td>\n",
       "      <td>2.121074</td>\n",
       "    </tr>\n",
       "    <tr>\n",
       "      <th>...</th>\n",
       "      <td>...</td>\n",
       "      <td>...</td>\n",
       "      <td>...</td>\n",
       "      <td>...</td>\n",
       "      <td>...</td>\n",
       "      <td>...</td>\n",
       "    </tr>\n",
       "    <tr>\n",
       "      <th>12794</th>\n",
       "      <td>hamster</td>\n",
       "      <td>12795</td>\n",
       "      <td>0.334515</td>\n",
       "      <td>2.260171</td>\n",
       "      <td>2.644559</td>\n",
       "      <td>1.593182</td>\n",
       "    </tr>\n",
       "    <tr>\n",
       "      <th>9616</th>\n",
       "      <td>squirrel</td>\n",
       "      <td>9617</td>\n",
       "      <td>0.326396</td>\n",
       "      <td>2.142533</td>\n",
       "      <td>2.336007</td>\n",
       "      <td>1.331845</td>\n",
       "    </tr>\n",
       "    <tr>\n",
       "      <th>5196</th>\n",
       "      <td>pig</td>\n",
       "      <td>5197</td>\n",
       "      <td>0.280290</td>\n",
       "      <td>2.109287</td>\n",
       "      <td>2.438909</td>\n",
       "      <td>1.364644</td>\n",
       "    </tr>\n",
       "    <tr>\n",
       "      <th>7393</th>\n",
       "      <td>bunny</td>\n",
       "      <td>7394</td>\n",
       "      <td>0.261032</td>\n",
       "      <td>1.973688</td>\n",
       "      <td>2.527244</td>\n",
       "      <td>1.298891</td>\n",
       "    </tr>\n",
       "    <tr>\n",
       "      <th>5816</th>\n",
       "      <td>rabbit</td>\n",
       "      <td>5817</td>\n",
       "      <td>0.000000</td>\n",
       "      <td>2.029186</td>\n",
       "      <td>2.397757</td>\n",
       "      <td>1.344860</td>\n",
       "    </tr>\n",
       "  </tbody>\n",
       "</table>\n",
       "<p>28633 rows × 6 columns</p>\n",
       "</div>"
      ],
      "text/plain": [
       "           word   rank  assassin_dist  friends_dist  foes_dist  neutrals_dist\n",
       "25846   Randell  25847       1.231181      3.644422   3.384413       2.248203\n",
       "20287   Mohegan  20288       1.225998      3.250139   3.185816       2.149471\n",
       "28382     Fultz  28383       1.205677      3.521329   3.059045       2.132518\n",
       "27656   Ismaili  27657       1.201379      3.396440   3.376065       2.216903\n",
       "27056  Hibernia  27057       1.200992      3.530811   3.081055       2.121074\n",
       "...         ...    ...            ...           ...        ...            ...\n",
       "12794   hamster  12795       0.334515      2.260171   2.644559       1.593182\n",
       "9616   squirrel   9617       0.326396      2.142533   2.336007       1.331845\n",
       "5196        pig   5197       0.280290      2.109287   2.438909       1.364644\n",
       "7393      bunny   7394       0.261032      1.973688   2.527244       1.298891\n",
       "5816     rabbit   5817       0.000000      2.029186   2.397757       1.344860\n",
       "\n",
       "[28633 rows x 6 columns]"
      ]
     },
     "execution_count": 258,
     "metadata": {},
     "output_type": "execute_result"
    }
   ],
   "source": [
    "candidates.sort_values(['assassin_dist', 'friends_dist', 'foes_dist', 'rank', 'neutrals_dist'], ascending=[False, True, False, True, False])"
   ]
  },
  {
   "cell_type": "code",
   "execution_count": null,
   "metadata": {},
   "outputs": [],
   "source": []
  }
 ],
 "metadata": {
  "kernelspec": {
   "display_name": "Python 3.7.5 64-bit",
   "language": "python",
   "name": "python37564bit47dcc3090c5641289829d58f6b71605f"
  },
  "language_info": {
   "codemirror_mode": {
    "name": "ipython",
    "version": 3
   },
   "file_extension": ".py",
   "mimetype": "text/x-python",
   "name": "python",
   "nbconvert_exporter": "python",
   "pygments_lexer": "ipython3",
   "version": "3.8.5-final"
  }
 },
 "nbformat": 4,
 "nbformat_minor": 2
}