{
 "cells": [
  {
   "cell_type": "code",
   "execution_count": 158,
   "metadata": {
    "tags": []
   },
   "outputs": [],
   "source": [
    "import numpy as np\n",
    "import pandas as pd\n",
    "from scipy import spatial\n",
    "from random import randint\n",
    "import nbconvert.filters.strings\n",
    "from kneed import KneeLocator\n",
    "from scipy.spatial.distance import squareform\n",
    "from scipy.spatial.distance import pdist\n",
    "from matplotlib import pyplot as pyplot\n",
    "pd.set_option('display.max_rows', 500)"
   ]
  },
  {
   "cell_type": "code",
   "execution_count": 26,
   "metadata": {
    "tags": []
   },
   "outputs": [],
   "source": [
    "# Read in processed data as dataframe\n",
    "glove_vectors = pd.read_pickle('./processing/data/glove_vectors.pkl')\n",
    "google_vectors = pd.read_pickle('./processing/data/google_vectors.pkl')\n",
    "ft_vectors = pd.read_pickle('./processing/data/fasttext_vectors.pkl')"
   ]
  },
  {
   "cell_type": "code",
   "execution_count": 9,
   "metadata": {},
   "outputs": [],
   "source": [
    "all_words = list(glove_vectors.index.get_level_values(level=0).drop_duplicates())"
   ]
  },
  {
   "cell_type": "code",
   "execution_count": 69,
   "metadata": {},
   "outputs": [],
   "source": [
    "friends = ['superhero', 'cook', 'cricket', 'calf', 'apple', 'monkey']\n",
    "foes = ['nut', 'mountain', 'straw', 'millionaire']\n",
    "neutrals = ['mug', 'fence', 'cliff', 'brush']\n",
    "assassin = ['shark']\n",
    "board_words = friends + foes + neutrals + assassin"
   ]
  },
  {
   "cell_type": "code",
   "execution_count": 114,
   "metadata": {},
   "outputs": [
    {
     "output_type": "execute_result",
     "data": {
      "text/plain": "<AxesSubplot:>"
     },
     "metadata": {},
     "execution_count": 114
    },
    {
     "output_type": "display_data",
     "data": {
      "text/plain": "<Figure size 432x288 with 1 Axes>",
      "image/svg+xml": "<?xml version=\"1.0\" encoding=\"utf-8\" standalone=\"no\"?>\n<!DOCTYPE svg PUBLIC \"-//W3C//DTD SVG 1.1//EN\"\n  \"http://www.w3.org/Graphics/SVG/1.1/DTD/svg11.dtd\">\n<!-- Created with matplotlib (https://matplotlib.org/) -->\n<svg height=\"248.518125pt\" version=\"1.1\" viewBox=\"0 0 379.941193 248.518125\" width=\"379.941193pt\" xmlns=\"http://www.w3.org/2000/svg\" xmlns:xlink=\"http://www.w3.org/1999/xlink\">\n <metadata>\n  <rdf:RDF xmlns:cc=\"http://creativecommons.org/ns#\" xmlns:dc=\"http://purl.org/dc/elements/1.1/\" xmlns:rdf=\"http://www.w3.org/1999/02/22-rdf-syntax-ns#\">\n   <cc:Work>\n    <dc:type rdf:resource=\"http://purl.org/dc/dcmitype/StillImage\"/>\n    <dc:date>2020-07-31T00:02:16.013995</dc:date>\n    <dc:format>image/svg+xml</dc:format>\n    <dc:creator>\n     <cc:Agent>\n      <dc:title>Matplotlib v3.3.0, https://matplotlib.org/</dc:title>\n     </cc:Agent>\n    </dc:creator>\n   </cc:Work>\n  </rdf:RDF>\n </metadata>\n <defs>\n  <style type=\"text/css\">*{stroke-linecap:butt;stroke-linejoin:round;}</style>\n </defs>\n <g id=\"figure_1\">\n  <g id=\"patch_1\">\n   <path d=\"M 0 248.518125 \nL 379.941193 248.518125 \nL 379.941193 0 \nL 0 0 \nz\n\" style=\"fill:none;\"/>\n  </g>\n  <g id=\"axes_1\">\n   <g id=\"patch_2\">\n    <path d=\"M 36.465625 224.64 \nL 371.265625 224.64 \nL 371.265625 7.2 \nL 36.465625 7.2 \nz\n\" style=\"fill:#ffffff;\"/>\n   </g>\n   <g id=\"matplotlib.axis_1\">\n    <g id=\"xtick_1\">\n     <g id=\"line2d_1\">\n      <defs>\n       <path d=\"M 0 0 \nL 0 3.5 \n\" id=\"m0c66e98e44\" style=\"stroke:#000000;stroke-width:0.8;\"/>\n      </defs>\n      <g>\n       <use style=\"stroke:#000000;stroke-width:0.8;\" x=\"51.683807\" xlink:href=\"#m0c66e98e44\" y=\"224.64\"/>\n      </g>\n     </g>\n     <g id=\"text_1\">\n      <!-- cook -->\n      <g transform=\"translate(39.920526 239.238437)scale(0.1 -0.1)\">\n       <defs>\n        <path d=\"M 48.78125 52.59375 \nL 48.78125 44.1875 \nQ 44.96875 46.296875 41.140625 47.34375 \nQ 37.3125 48.390625 33.40625 48.390625 \nQ 24.65625 48.390625 19.8125 42.84375 \nQ 14.984375 37.3125 14.984375 27.296875 \nQ 14.984375 17.28125 19.8125 11.734375 \nQ 24.65625 6.203125 33.40625 6.203125 \nQ 37.3125 6.203125 41.140625 7.25 \nQ 44.96875 8.296875 48.78125 10.40625 \nL 48.78125 2.09375 \nQ 45.015625 0.34375 40.984375 -0.53125 \nQ 36.96875 -1.421875 32.421875 -1.421875 \nQ 20.0625 -1.421875 12.78125 6.34375 \nQ 5.515625 14.109375 5.515625 27.296875 \nQ 5.515625 40.671875 12.859375 48.328125 \nQ 20.21875 56 33.015625 56 \nQ 37.15625 56 41.109375 55.140625 \nQ 45.0625 54.296875 48.78125 52.59375 \nz\n\" id=\"DejaVuSans-99\"/>\n        <path d=\"M 30.609375 48.390625 \nQ 23.390625 48.390625 19.1875 42.75 \nQ 14.984375 37.109375 14.984375 27.296875 \nQ 14.984375 17.484375 19.15625 11.84375 \nQ 23.34375 6.203125 30.609375 6.203125 \nQ 37.796875 6.203125 41.984375 11.859375 \nQ 46.1875 17.53125 46.1875 27.296875 \nQ 46.1875 37.015625 41.984375 42.703125 \nQ 37.796875 48.390625 30.609375 48.390625 \nz\nM 30.609375 56 \nQ 42.328125 56 49.015625 48.375 \nQ 55.71875 40.765625 55.71875 27.296875 \nQ 55.71875 13.875 49.015625 6.21875 \nQ 42.328125 -1.421875 30.609375 -1.421875 \nQ 18.84375 -1.421875 12.171875 6.21875 \nQ 5.515625 13.875 5.515625 27.296875 \nQ 5.515625 40.765625 12.171875 48.375 \nQ 18.84375 56 30.609375 56 \nz\n\" id=\"DejaVuSans-111\"/>\n        <path d=\"M 9.078125 75.984375 \nL 18.109375 75.984375 \nL 18.109375 31.109375 \nL 44.921875 54.6875 \nL 56.390625 54.6875 \nL 27.390625 29.109375 \nL 57.625 0 \nL 45.90625 0 \nL 18.109375 26.703125 \nL 18.109375 0 \nL 9.078125 0 \nz\n\" id=\"DejaVuSans-107\"/>\n       </defs>\n       <use xlink:href=\"#DejaVuSans-99\"/>\n       <use x=\"54.980469\" xlink:href=\"#DejaVuSans-111\"/>\n       <use x=\"116.162109\" xlink:href=\"#DejaVuSans-111\"/>\n       <use x=\"177.34375\" xlink:href=\"#DejaVuSans-107\"/>\n      </g>\n     </g>\n    </g>\n    <g id=\"xtick_2\">\n     <g id=\"line2d_2\">\n      <g>\n       <use style=\"stroke:#000000;stroke-width:0.8;\" x=\"112.556534\" xlink:href=\"#m0c66e98e44\" y=\"224.64\"/>\n      </g>\n     </g>\n     <g id=\"text_2\">\n      <!-- apple -->\n      <g transform=\"translate(98.678409 239.238437)scale(0.1 -0.1)\">\n       <defs>\n        <path d=\"M 34.28125 27.484375 \nQ 23.390625 27.484375 19.1875 25 \nQ 14.984375 22.515625 14.984375 16.5 \nQ 14.984375 11.71875 18.140625 8.90625 \nQ 21.296875 6.109375 26.703125 6.109375 \nQ 34.1875 6.109375 38.703125 11.40625 \nQ 43.21875 16.703125 43.21875 25.484375 \nL 43.21875 27.484375 \nz\nM 52.203125 31.203125 \nL 52.203125 0 \nL 43.21875 0 \nL 43.21875 8.296875 \nQ 40.140625 3.328125 35.546875 0.953125 \nQ 30.953125 -1.421875 24.3125 -1.421875 \nQ 15.921875 -1.421875 10.953125 3.296875 \nQ 6 8.015625 6 15.921875 \nQ 6 25.140625 12.171875 29.828125 \nQ 18.359375 34.515625 30.609375 34.515625 \nL 43.21875 34.515625 \nL 43.21875 35.40625 \nQ 43.21875 41.609375 39.140625 45 \nQ 35.0625 48.390625 27.6875 48.390625 \nQ 23 48.390625 18.546875 47.265625 \nQ 14.109375 46.140625 10.015625 43.890625 \nL 10.015625 52.203125 \nQ 14.9375 54.109375 19.578125 55.046875 \nQ 24.21875 56 28.609375 56 \nQ 40.484375 56 46.34375 49.84375 \nQ 52.203125 43.703125 52.203125 31.203125 \nz\n\" id=\"DejaVuSans-97\"/>\n        <path d=\"M 18.109375 8.203125 \nL 18.109375 -20.796875 \nL 9.078125 -20.796875 \nL 9.078125 54.6875 \nL 18.109375 54.6875 \nL 18.109375 46.390625 \nQ 20.953125 51.265625 25.265625 53.625 \nQ 29.59375 56 35.59375 56 \nQ 45.5625 56 51.78125 48.09375 \nQ 58.015625 40.1875 58.015625 27.296875 \nQ 58.015625 14.40625 51.78125 6.484375 \nQ 45.5625 -1.421875 35.59375 -1.421875 \nQ 29.59375 -1.421875 25.265625 0.953125 \nQ 20.953125 3.328125 18.109375 8.203125 \nz\nM 48.6875 27.296875 \nQ 48.6875 37.203125 44.609375 42.84375 \nQ 40.53125 48.484375 33.40625 48.484375 \nQ 26.265625 48.484375 22.1875 42.84375 \nQ 18.109375 37.203125 18.109375 27.296875 \nQ 18.109375 17.390625 22.1875 11.75 \nQ 26.265625 6.109375 33.40625 6.109375 \nQ 40.53125 6.109375 44.609375 11.75 \nQ 48.6875 17.390625 48.6875 27.296875 \nz\n\" id=\"DejaVuSans-112\"/>\n        <path d=\"M 9.421875 75.984375 \nL 18.40625 75.984375 \nL 18.40625 0 \nL 9.421875 0 \nz\n\" id=\"DejaVuSans-108\"/>\n        <path d=\"M 56.203125 29.59375 \nL 56.203125 25.203125 \nL 14.890625 25.203125 \nQ 15.484375 15.921875 20.484375 11.0625 \nQ 25.484375 6.203125 34.421875 6.203125 \nQ 39.59375 6.203125 44.453125 7.46875 \nQ 49.3125 8.734375 54.109375 11.28125 \nL 54.109375 2.78125 \nQ 49.265625 0.734375 44.1875 -0.34375 \nQ 39.109375 -1.421875 33.890625 -1.421875 \nQ 20.796875 -1.421875 13.15625 6.1875 \nQ 5.515625 13.8125 5.515625 26.8125 \nQ 5.515625 40.234375 12.765625 48.109375 \nQ 20.015625 56 32.328125 56 \nQ 43.359375 56 49.78125 48.890625 \nQ 56.203125 41.796875 56.203125 29.59375 \nz\nM 47.21875 32.234375 \nQ 47.125 39.59375 43.09375 43.984375 \nQ 39.0625 48.390625 32.421875 48.390625 \nQ 24.90625 48.390625 20.390625 44.140625 \nQ 15.875 39.890625 15.1875 32.171875 \nz\n\" id=\"DejaVuSans-101\"/>\n       </defs>\n       <use xlink:href=\"#DejaVuSans-97\"/>\n       <use x=\"61.279297\" xlink:href=\"#DejaVuSans-112\"/>\n       <use x=\"124.755859\" xlink:href=\"#DejaVuSans-112\"/>\n       <use x=\"188.232422\" xlink:href=\"#DejaVuSans-108\"/>\n       <use x=\"216.015625\" xlink:href=\"#DejaVuSans-101\"/>\n      </g>\n     </g>\n    </g>\n    <g id=\"xtick_3\">\n     <g id=\"line2d_3\">\n      <g>\n       <use style=\"stroke:#000000;stroke-width:0.8;\" x=\"173.429261\" xlink:href=\"#m0c66e98e44\" y=\"224.64\"/>\n      </g>\n     </g>\n     <g id=\"text_3\">\n      <!-- monkey -->\n      <g transform=\"translate(153.580824 239.238437)scale(0.1 -0.1)\">\n       <defs>\n        <path d=\"M 52 44.1875 \nQ 55.375 50.25 60.0625 53.125 \nQ 64.75 56 71.09375 56 \nQ 79.640625 56 84.28125 50.015625 \nQ 88.921875 44.046875 88.921875 33.015625 \nL 88.921875 0 \nL 79.890625 0 \nL 79.890625 32.71875 \nQ 79.890625 40.578125 77.09375 44.375 \nQ 74.3125 48.1875 68.609375 48.1875 \nQ 61.625 48.1875 57.5625 43.546875 \nQ 53.515625 38.921875 53.515625 30.90625 \nL 53.515625 0 \nL 44.484375 0 \nL 44.484375 32.71875 \nQ 44.484375 40.625 41.703125 44.40625 \nQ 38.921875 48.1875 33.109375 48.1875 \nQ 26.21875 48.1875 22.15625 43.53125 \nQ 18.109375 38.875 18.109375 30.90625 \nL 18.109375 0 \nL 9.078125 0 \nL 9.078125 54.6875 \nL 18.109375 54.6875 \nL 18.109375 46.1875 \nQ 21.1875 51.21875 25.484375 53.609375 \nQ 29.78125 56 35.6875 56 \nQ 41.65625 56 45.828125 52.96875 \nQ 50 49.953125 52 44.1875 \nz\n\" id=\"DejaVuSans-109\"/>\n        <path d=\"M 54.890625 33.015625 \nL 54.890625 0 \nL 45.90625 0 \nL 45.90625 32.71875 \nQ 45.90625 40.484375 42.875 44.328125 \nQ 39.84375 48.1875 33.796875 48.1875 \nQ 26.515625 48.1875 22.3125 43.546875 \nQ 18.109375 38.921875 18.109375 30.90625 \nL 18.109375 0 \nL 9.078125 0 \nL 9.078125 54.6875 \nL 18.109375 54.6875 \nL 18.109375 46.1875 \nQ 21.34375 51.125 25.703125 53.5625 \nQ 30.078125 56 35.796875 56 \nQ 45.21875 56 50.046875 50.171875 \nQ 54.890625 44.34375 54.890625 33.015625 \nz\n\" id=\"DejaVuSans-110\"/>\n        <path d=\"M 32.171875 -5.078125 \nQ 28.375 -14.84375 24.75 -17.8125 \nQ 21.140625 -20.796875 15.09375 -20.796875 \nL 7.90625 -20.796875 \nL 7.90625 -13.28125 \nL 13.1875 -13.28125 \nQ 16.890625 -13.28125 18.9375 -11.515625 \nQ 21 -9.765625 23.484375 -3.21875 \nL 25.09375 0.875 \nL 2.984375 54.6875 \nL 12.5 54.6875 \nL 29.59375 11.921875 \nL 46.6875 54.6875 \nL 56.203125 54.6875 \nz\n\" id=\"DejaVuSans-121\"/>\n       </defs>\n       <use xlink:href=\"#DejaVuSans-109\"/>\n       <use x=\"97.412109\" xlink:href=\"#DejaVuSans-111\"/>\n       <use x=\"158.59375\" xlink:href=\"#DejaVuSans-110\"/>\n       <use x=\"221.972656\" xlink:href=\"#DejaVuSans-107\"/>\n       <use x=\"276.257812\" xlink:href=\"#DejaVuSans-101\"/>\n       <use x=\"337.78125\" xlink:href=\"#DejaVuSans-121\"/>\n      </g>\n     </g>\n    </g>\n    <g id=\"xtick_4\">\n     <g id=\"line2d_4\">\n      <g>\n       <use style=\"stroke:#000000;stroke-width:0.8;\" x=\"234.301989\" xlink:href=\"#m0c66e98e44\" y=\"224.64\"/>\n      </g>\n     </g>\n     <g id=\"text_4\">\n      <!-- superhero -->\n      <g transform=\"translate(209.062145 239.238437)scale(0.1 -0.1)\">\n       <defs>\n        <path d=\"M 44.28125 53.078125 \nL 44.28125 44.578125 \nQ 40.484375 46.53125 36.375 47.5 \nQ 32.28125 48.484375 27.875 48.484375 \nQ 21.1875 48.484375 17.84375 46.4375 \nQ 14.5 44.390625 14.5 40.28125 \nQ 14.5 37.15625 16.890625 35.375 \nQ 19.28125 33.59375 26.515625 31.984375 \nL 29.59375 31.296875 \nQ 39.15625 29.25 43.1875 25.515625 \nQ 47.21875 21.78125 47.21875 15.09375 \nQ 47.21875 7.46875 41.1875 3.015625 \nQ 35.15625 -1.421875 24.609375 -1.421875 \nQ 20.21875 -1.421875 15.453125 -0.5625 \nQ 10.6875 0.296875 5.421875 2 \nL 5.421875 11.28125 \nQ 10.40625 8.6875 15.234375 7.390625 \nQ 20.0625 6.109375 24.8125 6.109375 \nQ 31.15625 6.109375 34.5625 8.28125 \nQ 37.984375 10.453125 37.984375 14.40625 \nQ 37.984375 18.0625 35.515625 20.015625 \nQ 33.0625 21.96875 24.703125 23.78125 \nL 21.578125 24.515625 \nQ 13.234375 26.265625 9.515625 29.90625 \nQ 5.8125 33.546875 5.8125 39.890625 \nQ 5.8125 47.609375 11.28125 51.796875 \nQ 16.75 56 26.8125 56 \nQ 31.78125 56 36.171875 55.265625 \nQ 40.578125 54.546875 44.28125 53.078125 \nz\n\" id=\"DejaVuSans-115\"/>\n        <path d=\"M 8.5 21.578125 \nL 8.5 54.6875 \nL 17.484375 54.6875 \nL 17.484375 21.921875 \nQ 17.484375 14.15625 20.5 10.265625 \nQ 23.53125 6.390625 29.59375 6.390625 \nQ 36.859375 6.390625 41.078125 11.03125 \nQ 45.3125 15.671875 45.3125 23.6875 \nL 45.3125 54.6875 \nL 54.296875 54.6875 \nL 54.296875 0 \nL 45.3125 0 \nL 45.3125 8.40625 \nQ 42.046875 3.421875 37.71875 1 \nQ 33.40625 -1.421875 27.6875 -1.421875 \nQ 18.265625 -1.421875 13.375 4.4375 \nQ 8.5 10.296875 8.5 21.578125 \nz\nM 31.109375 56 \nz\n\" id=\"DejaVuSans-117\"/>\n        <path d=\"M 41.109375 46.296875 \nQ 39.59375 47.171875 37.8125 47.578125 \nQ 36.03125 48 33.890625 48 \nQ 26.265625 48 22.1875 43.046875 \nQ 18.109375 38.09375 18.109375 28.8125 \nL 18.109375 0 \nL 9.078125 0 \nL 9.078125 54.6875 \nL 18.109375 54.6875 \nL 18.109375 46.1875 \nQ 20.953125 51.171875 25.484375 53.578125 \nQ 30.03125 56 36.53125 56 \nQ 37.453125 56 38.578125 55.875 \nQ 39.703125 55.765625 41.0625 55.515625 \nz\n\" id=\"DejaVuSans-114\"/>\n        <path d=\"M 54.890625 33.015625 \nL 54.890625 0 \nL 45.90625 0 \nL 45.90625 32.71875 \nQ 45.90625 40.484375 42.875 44.328125 \nQ 39.84375 48.1875 33.796875 48.1875 \nQ 26.515625 48.1875 22.3125 43.546875 \nQ 18.109375 38.921875 18.109375 30.90625 \nL 18.109375 0 \nL 9.078125 0 \nL 9.078125 75.984375 \nL 18.109375 75.984375 \nL 18.109375 46.1875 \nQ 21.34375 51.125 25.703125 53.5625 \nQ 30.078125 56 35.796875 56 \nQ 45.21875 56 50.046875 50.171875 \nQ 54.890625 44.34375 54.890625 33.015625 \nz\n\" id=\"DejaVuSans-104\"/>\n       </defs>\n       <use xlink:href=\"#DejaVuSans-115\"/>\n       <use x=\"52.099609\" xlink:href=\"#DejaVuSans-117\"/>\n       <use x=\"115.478516\" xlink:href=\"#DejaVuSans-112\"/>\n       <use x=\"178.955078\" xlink:href=\"#DejaVuSans-101\"/>\n       <use x=\"240.478516\" xlink:href=\"#DejaVuSans-114\"/>\n       <use x=\"279.841797\" xlink:href=\"#DejaVuSans-104\"/>\n       <use x=\"343.220703\" xlink:href=\"#DejaVuSans-101\"/>\n       <use x=\"404.744141\" xlink:href=\"#DejaVuSans-114\"/>\n       <use x=\"443.607422\" xlink:href=\"#DejaVuSans-111\"/>\n      </g>\n     </g>\n    </g>\n    <g id=\"xtick_5\">\n     <g id=\"line2d_5\">\n      <g>\n       <use style=\"stroke:#000000;stroke-width:0.8;\" x=\"295.174716\" xlink:href=\"#m0c66e98e44\" y=\"224.64\"/>\n      </g>\n     </g>\n     <g id=\"text_5\">\n      <!-- calf -->\n      <g transform=\"translate(286.212216 239.238437)scale(0.1 -0.1)\">\n       <defs>\n        <path d=\"M 37.109375 75.984375 \nL 37.109375 68.5 \nL 28.515625 68.5 \nQ 23.6875 68.5 21.796875 66.546875 \nQ 19.921875 64.59375 19.921875 59.515625 \nL 19.921875 54.6875 \nL 34.71875 54.6875 \nL 34.71875 47.703125 \nL 19.921875 47.703125 \nL 19.921875 0 \nL 10.890625 0 \nL 10.890625 47.703125 \nL 2.296875 47.703125 \nL 2.296875 54.6875 \nL 10.890625 54.6875 \nL 10.890625 58.5 \nQ 10.890625 67.625 15.140625 71.796875 \nQ 19.390625 75.984375 28.609375 75.984375 \nz\n\" id=\"DejaVuSans-102\"/>\n       </defs>\n       <use xlink:href=\"#DejaVuSans-99\"/>\n       <use x=\"54.980469\" xlink:href=\"#DejaVuSans-97\"/>\n       <use x=\"116.259766\" xlink:href=\"#DejaVuSans-108\"/>\n       <use x=\"144.042969\" xlink:href=\"#DejaVuSans-102\"/>\n      </g>\n     </g>\n    </g>\n    <g id=\"xtick_6\">\n     <g id=\"line2d_6\">\n      <g>\n       <use style=\"stroke:#000000;stroke-width:0.8;\" x=\"356.047443\" xlink:href=\"#m0c66e98e44\" y=\"224.64\"/>\n      </g>\n     </g>\n     <g id=\"text_6\">\n      <!-- cricket -->\n      <g transform=\"translate(339.353693 239.238437)scale(0.1 -0.1)\">\n       <defs>\n        <path d=\"M 9.421875 54.6875 \nL 18.40625 54.6875 \nL 18.40625 0 \nL 9.421875 0 \nz\nM 9.421875 75.984375 \nL 18.40625 75.984375 \nL 18.40625 64.59375 \nL 9.421875 64.59375 \nz\n\" id=\"DejaVuSans-105\"/>\n        <path d=\"M 18.3125 70.21875 \nL 18.3125 54.6875 \nL 36.8125 54.6875 \nL 36.8125 47.703125 \nL 18.3125 47.703125 \nL 18.3125 18.015625 \nQ 18.3125 11.328125 20.140625 9.421875 \nQ 21.96875 7.515625 27.59375 7.515625 \nL 36.8125 7.515625 \nL 36.8125 0 \nL 27.59375 0 \nQ 17.1875 0 13.234375 3.875 \nQ 9.28125 7.765625 9.28125 18.015625 \nL 9.28125 47.703125 \nL 2.6875 47.703125 \nL 2.6875 54.6875 \nL 9.28125 54.6875 \nL 9.28125 70.21875 \nz\n\" id=\"DejaVuSans-116\"/>\n       </defs>\n       <use xlink:href=\"#DejaVuSans-99\"/>\n       <use x=\"54.980469\" xlink:href=\"#DejaVuSans-114\"/>\n       <use x=\"96.09375\" xlink:href=\"#DejaVuSans-105\"/>\n       <use x=\"123.876953\" xlink:href=\"#DejaVuSans-99\"/>\n       <use x=\"178.857422\" xlink:href=\"#DejaVuSans-107\"/>\n       <use x=\"233.142578\" xlink:href=\"#DejaVuSans-101\"/>\n       <use x=\"294.666016\" xlink:href=\"#DejaVuSans-116\"/>\n      </g>\n     </g>\n    </g>\n   </g>\n   <g id=\"matplotlib.axis_2\">\n    <g id=\"ytick_1\">\n     <g id=\"line2d_7\">\n      <defs>\n       <path d=\"M 0 0 \nL -3.5 0 \n\" id=\"mff3b9b721a\" style=\"stroke:#000000;stroke-width:0.8;\"/>\n      </defs>\n      <g>\n       <use style=\"stroke:#000000;stroke-width:0.8;\" x=\"36.465625\" xlink:href=\"#mff3b9b721a\" y=\"186.895808\"/>\n      </g>\n     </g>\n     <g id=\"text_7\">\n      <!-- 0.66 -->\n      <g transform=\"translate(7.2 190.695027)scale(0.1 -0.1)\">\n       <defs>\n        <path d=\"M 31.78125 66.40625 \nQ 24.171875 66.40625 20.328125 58.90625 \nQ 16.5 51.421875 16.5 36.375 \nQ 16.5 21.390625 20.328125 13.890625 \nQ 24.171875 6.390625 31.78125 6.390625 \nQ 39.453125 6.390625 43.28125 13.890625 \nQ 47.125 21.390625 47.125 36.375 \nQ 47.125 51.421875 43.28125 58.90625 \nQ 39.453125 66.40625 31.78125 66.40625 \nz\nM 31.78125 74.21875 \nQ 44.046875 74.21875 50.515625 64.515625 \nQ 56.984375 54.828125 56.984375 36.375 \nQ 56.984375 17.96875 50.515625 8.265625 \nQ 44.046875 -1.421875 31.78125 -1.421875 \nQ 19.53125 -1.421875 13.0625 8.265625 \nQ 6.59375 17.96875 6.59375 36.375 \nQ 6.59375 54.828125 13.0625 64.515625 \nQ 19.53125 74.21875 31.78125 74.21875 \nz\n\" id=\"DejaVuSans-48\"/>\n        <path d=\"M 10.6875 12.40625 \nL 21 12.40625 \nL 21 0 \nL 10.6875 0 \nz\n\" id=\"DejaVuSans-46\"/>\n        <path d=\"M 33.015625 40.375 \nQ 26.375 40.375 22.484375 35.828125 \nQ 18.609375 31.296875 18.609375 23.390625 \nQ 18.609375 15.53125 22.484375 10.953125 \nQ 26.375 6.390625 33.015625 6.390625 \nQ 39.65625 6.390625 43.53125 10.953125 \nQ 47.40625 15.53125 47.40625 23.390625 \nQ 47.40625 31.296875 43.53125 35.828125 \nQ 39.65625 40.375 33.015625 40.375 \nz\nM 52.59375 71.296875 \nL 52.59375 62.3125 \nQ 48.875 64.0625 45.09375 64.984375 \nQ 41.3125 65.921875 37.59375 65.921875 \nQ 27.828125 65.921875 22.671875 59.328125 \nQ 17.53125 52.734375 16.796875 39.40625 \nQ 19.671875 43.65625 24.015625 45.921875 \nQ 28.375 48.1875 33.59375 48.1875 \nQ 44.578125 48.1875 50.953125 41.515625 \nQ 57.328125 34.859375 57.328125 23.390625 \nQ 57.328125 12.15625 50.6875 5.359375 \nQ 44.046875 -1.421875 33.015625 -1.421875 \nQ 20.359375 -1.421875 13.671875 8.265625 \nQ 6.984375 17.96875 6.984375 36.375 \nQ 6.984375 53.65625 15.1875 63.9375 \nQ 23.390625 74.21875 37.203125 74.21875 \nQ 40.921875 74.21875 44.703125 73.484375 \nQ 48.484375 72.75 52.59375 71.296875 \nz\n\" id=\"DejaVuSans-54\"/>\n       </defs>\n       <use xlink:href=\"#DejaVuSans-48\"/>\n       <use x=\"63.623047\" xlink:href=\"#DejaVuSans-46\"/>\n       <use x=\"95.410156\" xlink:href=\"#DejaVuSans-54\"/>\n       <use x=\"159.033203\" xlink:href=\"#DejaVuSans-54\"/>\n      </g>\n     </g>\n    </g>\n    <g id=\"ytick_2\">\n     <g id=\"line2d_8\">\n      <g>\n       <use style=\"stroke:#000000;stroke-width:0.8;\" x=\"36.465625\" xlink:href=\"#mff3b9b721a\" y=\"141.010611\"/>\n      </g>\n     </g>\n     <g id=\"text_8\">\n      <!-- 0.68 -->\n      <g transform=\"translate(7.2 144.80983)scale(0.1 -0.1)\">\n       <defs>\n        <path d=\"M 31.78125 34.625 \nQ 24.75 34.625 20.71875 30.859375 \nQ 16.703125 27.09375 16.703125 20.515625 \nQ 16.703125 13.921875 20.71875 10.15625 \nQ 24.75 6.390625 31.78125 6.390625 \nQ 38.8125 6.390625 42.859375 10.171875 \nQ 46.921875 13.96875 46.921875 20.515625 \nQ 46.921875 27.09375 42.890625 30.859375 \nQ 38.875 34.625 31.78125 34.625 \nz\nM 21.921875 38.8125 \nQ 15.578125 40.375 12.03125 44.71875 \nQ 8.5 49.078125 8.5 55.328125 \nQ 8.5 64.0625 14.71875 69.140625 \nQ 20.953125 74.21875 31.78125 74.21875 \nQ 42.671875 74.21875 48.875 69.140625 \nQ 55.078125 64.0625 55.078125 55.328125 \nQ 55.078125 49.078125 51.53125 44.71875 \nQ 48 40.375 41.703125 38.8125 \nQ 48.828125 37.15625 52.796875 32.3125 \nQ 56.78125 27.484375 56.78125 20.515625 \nQ 56.78125 9.90625 50.3125 4.234375 \nQ 43.84375 -1.421875 31.78125 -1.421875 \nQ 19.734375 -1.421875 13.25 4.234375 \nQ 6.78125 9.90625 6.78125 20.515625 \nQ 6.78125 27.484375 10.78125 32.3125 \nQ 14.796875 37.15625 21.921875 38.8125 \nz\nM 18.3125 54.390625 \nQ 18.3125 48.734375 21.84375 45.5625 \nQ 25.390625 42.390625 31.78125 42.390625 \nQ 38.140625 42.390625 41.71875 45.5625 \nQ 45.3125 48.734375 45.3125 54.390625 \nQ 45.3125 60.0625 41.71875 63.234375 \nQ 38.140625 66.40625 31.78125 66.40625 \nQ 25.390625 66.40625 21.84375 63.234375 \nQ 18.3125 60.0625 18.3125 54.390625 \nz\n\" id=\"DejaVuSans-56\"/>\n       </defs>\n       <use xlink:href=\"#DejaVuSans-48\"/>\n       <use x=\"63.623047\" xlink:href=\"#DejaVuSans-46\"/>\n       <use x=\"95.410156\" xlink:href=\"#DejaVuSans-54\"/>\n       <use x=\"159.033203\" xlink:href=\"#DejaVuSans-56\"/>\n      </g>\n     </g>\n    </g>\n    <g id=\"ytick_3\">\n     <g id=\"line2d_9\">\n      <g>\n       <use style=\"stroke:#000000;stroke-width:0.8;\" x=\"36.465625\" xlink:href=\"#mff3b9b721a\" y=\"95.125414\"/>\n      </g>\n     </g>\n     <g id=\"text_9\">\n      <!-- 0.70 -->\n      <g transform=\"translate(7.2 98.924632)scale(0.1 -0.1)\">\n       <defs>\n        <path d=\"M 8.203125 72.90625 \nL 55.078125 72.90625 \nL 55.078125 68.703125 \nL 28.609375 0 \nL 18.3125 0 \nL 43.21875 64.59375 \nL 8.203125 64.59375 \nz\n\" id=\"DejaVuSans-55\"/>\n       </defs>\n       <use xlink:href=\"#DejaVuSans-48\"/>\n       <use x=\"63.623047\" xlink:href=\"#DejaVuSans-46\"/>\n       <use x=\"95.410156\" xlink:href=\"#DejaVuSans-55\"/>\n       <use x=\"159.033203\" xlink:href=\"#DejaVuSans-48\"/>\n      </g>\n     </g>\n    </g>\n    <g id=\"ytick_4\">\n     <g id=\"line2d_10\">\n      <g>\n       <use style=\"stroke:#000000;stroke-width:0.8;\" x=\"36.465625\" xlink:href=\"#mff3b9b721a\" y=\"49.240216\"/>\n      </g>\n     </g>\n     <g id=\"text_10\">\n      <!-- 0.72 -->\n      <g transform=\"translate(7.2 53.039435)scale(0.1 -0.1)\">\n       <defs>\n        <path d=\"M 19.1875 8.296875 \nL 53.609375 8.296875 \nL 53.609375 0 \nL 7.328125 0 \nL 7.328125 8.296875 \nQ 12.9375 14.109375 22.625 23.890625 \nQ 32.328125 33.6875 34.8125 36.53125 \nQ 39.546875 41.84375 41.421875 45.53125 \nQ 43.3125 49.21875 43.3125 52.78125 \nQ 43.3125 58.59375 39.234375 62.25 \nQ 35.15625 65.921875 28.609375 65.921875 \nQ 23.96875 65.921875 18.8125 64.3125 \nQ 13.671875 62.703125 7.8125 59.421875 \nL 7.8125 69.390625 \nQ 13.765625 71.78125 18.9375 73 \nQ 24.125 74.21875 28.421875 74.21875 \nQ 39.75 74.21875 46.484375 68.546875 \nQ 53.21875 62.890625 53.21875 53.421875 \nQ 53.21875 48.921875 51.53125 44.890625 \nQ 49.859375 40.875 45.40625 35.40625 \nQ 44.1875 33.984375 37.640625 27.21875 \nQ 31.109375 20.453125 19.1875 8.296875 \nz\n\" id=\"DejaVuSans-50\"/>\n       </defs>\n       <use xlink:href=\"#DejaVuSans-48\"/>\n       <use x=\"63.623047\" xlink:href=\"#DejaVuSans-46\"/>\n       <use x=\"95.410156\" xlink:href=\"#DejaVuSans-55\"/>\n       <use x=\"159.033203\" xlink:href=\"#DejaVuSans-50\"/>\n      </g>\n     </g>\n    </g>\n   </g>\n   <g id=\"line2d_11\">\n    <path clip-path=\"url(#p291d535923)\" d=\"M 51.683807 214.756364 \nL 112.556534 214.756364 \nL 173.429261 78.950396 \nL 234.301989 73.204747 \nL 295.174716 48.7397 \nL 356.047443 17.083636 \n\" style=\"fill:none;stroke:#1f77b4;stroke-linecap:square;stroke-width:1.5;\"/>\n   </g>\n   <g id=\"patch_3\">\n    <path d=\"M 36.465625 224.64 \nL 36.465625 7.2 \n\" style=\"fill:none;stroke:#000000;stroke-linecap:square;stroke-linejoin:miter;stroke-width:0.8;\"/>\n   </g>\n   <g id=\"patch_4\">\n    <path d=\"M 371.265625 224.64 \nL 371.265625 7.2 \n\" style=\"fill:none;stroke:#000000;stroke-linecap:square;stroke-linejoin:miter;stroke-width:0.8;\"/>\n   </g>\n   <g id=\"patch_5\">\n    <path d=\"M 36.465625 224.64 \nL 371.265625 224.64 \n\" style=\"fill:none;stroke:#000000;stroke-linecap:square;stroke-linejoin:miter;stroke-width:0.8;\"/>\n   </g>\n   <g id=\"patch_6\">\n    <path d=\"M 36.465625 7.2 \nL 371.265625 7.2 \n\" style=\"fill:none;stroke:#000000;stroke-linecap:square;stroke-linejoin:miter;stroke-width:0.8;\"/>\n   </g>\n   <g id=\"legend_1\">\n    <g id=\"patch_7\">\n     <path d=\"M 43.465625 29.878125 \nL 93.721875 29.878125 \nQ 95.721875 29.878125 95.721875 27.878125 \nL 95.721875 14.2 \nQ 95.721875 12.2 93.721875 12.2 \nL 43.465625 12.2 \nQ 41.465625 12.2 41.465625 14.2 \nL 41.465625 27.878125 \nQ 41.465625 29.878125 43.465625 29.878125 \nz\n\" style=\"fill:#ffffff;opacity:0.8;stroke:#cccccc;stroke-linejoin:miter;\"/>\n    </g>\n    <g id=\"line2d_12\">\n     <path d=\"M 45.465625 20.298437 \nL 65.465625 20.298437 \n\" style=\"fill:none;stroke:#1f77b4;stroke-linecap:square;stroke-width:1.5;\"/>\n    </g>\n    <g id=\"line2d_13\"/>\n    <g id=\"text_11\">\n     <!-- dist -->\n     <g transform=\"translate(73.465625 23.798437)scale(0.1 -0.1)\">\n      <defs>\n       <path d=\"M 45.40625 46.390625 \nL 45.40625 75.984375 \nL 54.390625 75.984375 \nL 54.390625 0 \nL 45.40625 0 \nL 45.40625 8.203125 \nQ 42.578125 3.328125 38.25 0.953125 \nQ 33.9375 -1.421875 27.875 -1.421875 \nQ 17.96875 -1.421875 11.734375 6.484375 \nQ 5.515625 14.40625 5.515625 27.296875 \nQ 5.515625 40.1875 11.734375 48.09375 \nQ 17.96875 56 27.875 56 \nQ 33.9375 56 38.25 53.625 \nQ 42.578125 51.265625 45.40625 46.390625 \nz\nM 14.796875 27.296875 \nQ 14.796875 17.390625 18.875 11.75 \nQ 22.953125 6.109375 30.078125 6.109375 \nQ 37.203125 6.109375 41.296875 11.75 \nQ 45.40625 17.390625 45.40625 27.296875 \nQ 45.40625 37.203125 41.296875 42.84375 \nQ 37.203125 48.484375 30.078125 48.484375 \nQ 22.953125 48.484375 18.875 42.84375 \nQ 14.796875 37.203125 14.796875 27.296875 \nz\n\" id=\"DejaVuSans-100\"/>\n      </defs>\n      <use xlink:href=\"#DejaVuSans-100\"/>\n      <use x=\"63.476562\" xlink:href=\"#DejaVuSans-105\"/>\n      <use x=\"91.259766\" xlink:href=\"#DejaVuSans-115\"/>\n      <use x=\"143.359375\" xlink:href=\"#DejaVuSans-116\"/>\n     </g>\n    </g>\n   </g>\n  </g>\n </g>\n <defs>\n  <clipPath id=\"p291d535923\">\n   <rect height=\"217.44\" width=\"334.8\" x=\"36.465625\" y=\"7.2\"/>\n  </clipPath>\n </defs>\n</svg>\n",
      "image/png": "[encoded data removed]"
     },
     "metadata": {
      "needs_background": "light"
     }
    }
   ],
   "source": [
    "\n",
    "data = np.array([glove_vectors.loc[word].to_numpy() for word in friends])\n",
    "pairwise_cos = pd.DataFrame(\n",
    "    squareform(pdist(data, metric='cosine')),\n",
    "    columns = friends,\n",
    "    index = friends\n",
    ").replace(to_replace=0, value=999)\n",
    "data_dict = dict(pairwise_cos.min())\n",
    "pd.DataFrame(data_dict.values(), index=data_dict.keys(), columns=['dist']).sort_values(['dist']).plot()"
   ]
  },
  {
   "cell_type": "code",
   "execution_count": 122,
   "metadata": {
    "tags": []
   },
   "outputs": [],
   "source": [
    "y = list(data_dict.values())\n",
    "x = range(1, len(data_dict.keys())+1)\n",
    "\n",
    "kn = KneeLocator(x, y, curve='convex', direction='decreasing')\n",
    "num_friends_to_consider = kn.knee\n",
    "top_friends = sorted(data_dict, key=data_dict.get, reverse=False)[:num_friends_to_consider]\n",
    "low_friends = set(friends) - set(top_friends)"
   ]
  },
  {
   "cell_type": "code",
   "execution_count": 123,
   "metadata": {},
   "outputs": [],
   "source": [
    "# How much more important is distance to friends, as compared to foes?\n",
    "constant = 4\n",
    "def distance(source, target, vectors=glove_vectors):\n",
    "    return spatial.distance.cosine(vectors.loc[source].to_numpy(), vectors.loc[target].to_numpy())\n",
    "\n",
    "def get_scores(row, vectors):\n",
    "    word = row.word\n",
    "    if word in board_words or any([bw in word for bw in board_words]):\n",
    "        goodness = assassin_minimax = foes_minimax = neutrals_minimax = variance = -1000\n",
    "    else:\n",
    "        assassin_dist = [distance(word, a, vectors) for a in assassin]\n",
    "        # Check if assassin distance is adequate, if not don't waste your time\n",
    "        if abs(assassin_dist[0]) > 0.001:\n",
    "            top_friends_dist = [distance(word, tf, vectors) for tf in top_friends]\n",
    "            all_friends_dist = [distance(word, lf, vectors) for lf in low_friends]\n",
    "            foes_dist = [distance(word, f, vectors) for f in foes]\n",
    "            neutrals_dist = [distance(word, n, vectors) for n in neutrals]\n",
    "            goodness = sum(foes_dist + assassin_dist) - constant * sum(top_friends_dist)\n",
    "            min_friends_dist = min(all_friends_dist)\n",
    "            max_friends_dist = max(all_friends_dist)\n",
    "            assassin_minimax = min(assassin_dist) - max_friends_dist\n",
    "            foes_minimax = min(foes_dist) - max_friends_dist\n",
    "            neutrals_minimax = min(neutrals_dist) - max_friends_dist\n",
    "            variance = max_friends_dist - min_friends_dist\n",
    "    return pd.Series([goodness, assassin_minimax, foes_minimax, neutrals_minimax, variance])"
   ]
  },
  {
   "cell_type": "code",
   "execution_count": 124,
   "metadata": {},
   "outputs": [],
   "source": [
    "def get_candidates_df(vectors):\n",
    "    candidates = pd.DataFrame({'word': all_words, 'frequency': [i for i in range(1, len(all_words) + 1)]})\n",
    "    candidates[['goodness', 'assassin_minimax', 'foes_minimax', 'neutrals_minimax', 'variance']] = candidates.apply(lambda row: get_scores(row, vectors), axis=1)\n",
    "    sort_by_columns = ['goodness', 'foes_minimax', 'assassin_minimax', 'frequency', 'neutrals_minimax', 'variance']\n",
    "    return candidates.sort_values(sort_by_columns, ascending=[False for i in range(len(sort_by_columns))]).reset_index(drop=True)"
   ]
  },
  {
   "cell_type": "code",
   "execution_count": 127,
   "metadata": {
    "tags": []
   },
   "outputs": [],
   "source": [
    "glove_candidates = get_candidates_df(glove_vectors)\n",
    "google_candidates = get_candidates_df(google_vectors)\n",
    "ft_candidates = get_candidates_df(ft_vectors)"
   ]
  },
  {
   "cell_type": "code",
   "execution_count": 126,
   "metadata": {},
   "outputs": [
    {
     "output_type": "execute_result",
     "data": {
      "text/plain": "        word  frequency  goodness  assassin_minimax  foes_minimax  \\\n0   potatoes       3794  0.489304         -0.074132     -0.264561   \n1       bake       5357  0.435572         -0.066249     -0.275865   \n2      baked       4638  0.360421         -0.116019     -0.354085   \n3     baking       3111  0.306480         -0.027883     -0.289533   \n4      onion       3965  0.291057         -0.134812     -0.304153   \n5       oven       2679  0.265532         -0.081284     -0.253498   \n6  casserole      10587  0.218795         -0.059612     -0.241717   \n7      bacon       4719  0.209704         -0.180934     -0.314707   \n8     recipe       1228  0.191947         -0.120250     -0.262955   \n9      sauce       2156  0.167886         -0.169261     -0.315401   \n\n   neutrals_minimax  variance  \n0         -0.175183  0.120026  \n1         -0.297363  0.083878  \n2         -0.273938  0.111226  \n3         -0.331451  0.071054  \n4         -0.221015  0.170277  \n5         -0.309474  0.094439  \n6         -0.347470  0.088095  \n7         -0.288972  0.197100  \n8         -0.221172  0.142325  \n9         -0.276232  0.160288  ",
      "text/html": "<div>\n<style scoped>\n    .dataframe tbody tr th:only-of-type {\n        vertical-align: middle;\n    }\n\n    .dataframe tbody tr th {\n        vertical-align: top;\n    }\n\n    .dataframe thead th {\n        text-align: right;\n    }\n</style>\n<table border=\"1\" class=\"dataframe\">\n  <thead>\n    <tr style=\"text-align: right;\">\n      <th></th>\n      <th>word</th>\n      <th>frequency</th>\n      <th>goodness</th>\n      <th>assassin_minimax</th>\n      <th>foes_minimax</th>\n      <th>neutrals_minimax</th>\n      <th>variance</th>\n    </tr>\n  </thead>\n  <tbody>\n    <tr>\n      <th>0</th>\n      <td>potatoes</td>\n      <td>3794</td>\n      <td>0.489304</td>\n      <td>-0.074132</td>\n      <td>-0.264561</td>\n      <td>-0.175183</td>\n      <td>0.120026</td>\n    </tr>\n    <tr>\n      <th>1</th>\n      <td>bake</td>\n      <td>5357</td>\n      <td>0.435572</td>\n      <td>-0.066249</td>\n      <td>-0.275865</td>\n      <td>-0.297363</td>\n      <td>0.083878</td>\n    </tr>\n    <tr>\n      <th>2</th>\n      <td>baked</td>\n      <td>4638</td>\n      <td>0.360421</td>\n      <td>-0.116019</td>\n      <td>-0.354085</td>\n      <td>-0.273938</td>\n      <td>0.111226</td>\n    </tr>\n    <tr>\n      <th>3</th>\n      <td>baking</td>\n      <td>3111</td>\n      <td>0.306480</td>\n      <td>-0.027883</td>\n      <td>-0.289533</td>\n      <td>-0.331451</td>\n      <td>0.071054</td>\n    </tr>\n    <tr>\n      <th>4</th>\n      <td>onion</td>\n      <td>3965</td>\n      <td>0.291057</td>\n      <td>-0.134812</td>\n      <td>-0.304153</td>\n      <td>-0.221015</td>\n      <td>0.170277</td>\n    </tr>\n    <tr>\n      <th>5</th>\n      <td>oven</td>\n      <td>2679</td>\n      <td>0.265532</td>\n      <td>-0.081284</td>\n      <td>-0.253498</td>\n      <td>-0.309474</td>\n      <td>0.094439</td>\n    </tr>\n    <tr>\n      <th>6</th>\n      <td>casserole</td>\n      <td>10587</td>\n      <td>0.218795</td>\n      <td>-0.059612</td>\n      <td>-0.241717</td>\n      <td>-0.347470</td>\n      <td>0.088095</td>\n    </tr>\n    <tr>\n      <th>7</th>\n      <td>bacon</td>\n      <td>4719</td>\n      <td>0.209704</td>\n      <td>-0.180934</td>\n      <td>-0.314707</td>\n      <td>-0.288972</td>\n      <td>0.197100</td>\n    </tr>\n    <tr>\n      <th>8</th>\n      <td>recipe</td>\n      <td>1228</td>\n      <td>0.191947</td>\n      <td>-0.120250</td>\n      <td>-0.262955</td>\n      <td>-0.221172</td>\n      <td>0.142325</td>\n    </tr>\n    <tr>\n      <th>9</th>\n      <td>sauce</td>\n      <td>2156</td>\n      <td>0.167886</td>\n      <td>-0.169261</td>\n      <td>-0.315401</td>\n      <td>-0.276232</td>\n      <td>0.160288</td>\n    </tr>\n  </tbody>\n</table>\n</div>"
     },
     "metadata": {},
     "execution_count": 126
    }
   ],
   "source": [
    "glove_candidates.head(10)"
   ]
  },
  {
   "cell_type": "code",
   "execution_count": 128,
   "metadata": {},
   "outputs": [
    {
     "output_type": "execute_result",
     "data": {
      "text/plain": "           word  frequency  goodness  assassin_minimax  foes_minimax  \\\n0     asparagus      10047  0.038242         -0.106608     -0.204104   \n1       rhubarb      15116  0.010340          0.062659     -0.198247   \n2          bake       5357 -0.031164          0.005294     -0.171971   \n3        baking       3111 -0.083110          0.030383     -0.222491   \n4   cauliflower      12518 -0.107344          0.016662     -0.136780   \n5       dessert       4671 -0.119262         -0.025420     -0.175908   \n6        pastry       7404 -0.132708          0.028600     -0.227444   \n7          dish       2490 -0.135812          0.008008     -0.100137   \n8           eat        746 -0.142039         -0.106756     -0.148434   \n9         onion       3965 -0.162327         -0.084824     -0.258303   \n10     eggplant      11126 -0.180801         -0.031625     -0.135154   \n11        saute      13700 -0.190240         -0.057144     -0.095622   \n12        chard      17964 -0.261724         -0.037653     -0.179009   \n13      cabbage       7898 -0.271509         -0.093840     -0.226282   \n14     potatoes       3794 -0.314641         -0.065424     -0.253764   \n15     zucchini      10301 -0.338570         -0.096983     -0.175411   \n16         pear       9364 -0.353398         -0.018409     -0.259900   \n17     broccoli       8096 -0.363500         -0.067477     -0.185679   \n18      pumpkin       5440 -0.371667         -0.107092     -0.216075   \n19        salad       3147 -0.387052         -0.012444     -0.163693   \n\n    neutrals_minimax  variance  \n0          -0.127454  0.177591  \n1          -0.119368  0.110766  \n2          -0.177235  0.084552  \n3          -0.216238  0.131910  \n4          -0.021665  0.092531  \n5          -0.183041  0.116600  \n6          -0.137355  0.021709  \n7          -0.118803  0.030443  \n8          -0.077177  0.151744  \n9          -0.135565  0.235024  \n10         -0.066839  0.097420  \n11         -0.211039  0.135434  \n12         -0.106133  0.157434  \n13         -0.118376  0.209342  \n14         -0.111170  0.185246  \n15         -0.125941  0.181125  \n16         -0.102486  0.138302  \n17         -0.098607  0.133579  \n18         -0.174214  0.197127  \n19         -0.095411  0.092281  ",
      "text/html": "<div>\n<style scoped>\n    .dataframe tbody tr th:only-of-type {\n        vertical-align: middle;\n    }\n\n    .dataframe tbody tr th {\n        vertical-align: top;\n    }\n\n    .dataframe thead th {\n        text-align: right;\n    }\n</style>\n<table border=\"1\" class=\"dataframe\">\n  <thead>\n    <tr style=\"text-align: right;\">\n      <th></th>\n      <th>word</th>\n      <th>frequency</th>\n      <th>goodness</th>\n      <th>assassin_minimax</th>\n      <th>foes_minimax</th>\n      <th>neutrals_minimax</th>\n      <th>variance</th>\n    </tr>\n  </thead>\n  <tbody>\n    <tr>\n      <th>0</th>\n      <td>asparagus</td>\n      <td>10047</td>\n      <td>0.038242</td>\n      <td>-0.106608</td>\n      <td>-0.204104</td>\n      <td>-0.127454</td>\n      <td>0.177591</td>\n    </tr>\n    <tr>\n      <th>1</th>\n      <td>rhubarb</td>\n      <td>15116</td>\n      <td>0.010340</td>\n      <td>0.062659</td>\n      <td>-0.198247</td>\n      <td>-0.119368</td>\n      <td>0.110766</td>\n    </tr>\n    <tr>\n      <th>2</th>\n      <td>bake</td>\n      <td>5357</td>\n      <td>-0.031164</td>\n      <td>0.005294</td>\n      <td>-0.171971</td>\n      <td>-0.177235</td>\n      <td>0.084552</td>\n    </tr>\n    <tr>\n      <th>3</th>\n      <td>baking</td>\n      <td>3111</td>\n      <td>-0.083110</td>\n      <td>0.030383</td>\n      <td>-0.222491</td>\n      <td>-0.216238</td>\n      <td>0.131910</td>\n    </tr>\n    <tr>\n      <th>4</th>\n      <td>cauliflower</td>\n      <td>12518</td>\n      <td>-0.107344</td>\n      <td>0.016662</td>\n      <td>-0.136780</td>\n      <td>-0.021665</td>\n      <td>0.092531</td>\n    </tr>\n    <tr>\n      <th>5</th>\n      <td>dessert</td>\n      <td>4671</td>\n      <td>-0.119262</td>\n      <td>-0.025420</td>\n      <td>-0.175908</td>\n      <td>-0.183041</td>\n      <td>0.116600</td>\n    </tr>\n    <tr>\n      <th>6</th>\n      <td>pastry</td>\n      <td>7404</td>\n      <td>-0.132708</td>\n      <td>0.028600</td>\n      <td>-0.227444</td>\n      <td>-0.137355</td>\n      <td>0.021709</td>\n    </tr>\n    <tr>\n      <th>7</th>\n      <td>dish</td>\n      <td>2490</td>\n      <td>-0.135812</td>\n      <td>0.008008</td>\n      <td>-0.100137</td>\n      <td>-0.118803</td>\n      <td>0.030443</td>\n    </tr>\n    <tr>\n      <th>8</th>\n      <td>eat</td>\n      <td>746</td>\n      <td>-0.142039</td>\n      <td>-0.106756</td>\n      <td>-0.148434</td>\n      <td>-0.077177</td>\n      <td>0.151744</td>\n    </tr>\n    <tr>\n      <th>9</th>\n      <td>onion</td>\n      <td>3965</td>\n      <td>-0.162327</td>\n      <td>-0.084824</td>\n      <td>-0.258303</td>\n      <td>-0.135565</td>\n      <td>0.235024</td>\n    </tr>\n    <tr>\n      <th>10</th>\n      <td>eggplant</td>\n      <td>11126</td>\n      <td>-0.180801</td>\n      <td>-0.031625</td>\n      <td>-0.135154</td>\n      <td>-0.066839</td>\n      <td>0.097420</td>\n    </tr>\n    <tr>\n      <th>11</th>\n      <td>saute</td>\n      <td>13700</td>\n      <td>-0.190240</td>\n      <td>-0.057144</td>\n      <td>-0.095622</td>\n      <td>-0.211039</td>\n      <td>0.135434</td>\n    </tr>\n    <tr>\n      <th>12</th>\n      <td>chard</td>\n      <td>17964</td>\n      <td>-0.261724</td>\n      <td>-0.037653</td>\n      <td>-0.179009</td>\n      <td>-0.106133</td>\n      <td>0.157434</td>\n    </tr>\n    <tr>\n      <th>13</th>\n      <td>cabbage</td>\n      <td>7898</td>\n      <td>-0.271509</td>\n      <td>-0.093840</td>\n      <td>-0.226282</td>\n      <td>-0.118376</td>\n      <td>0.209342</td>\n    </tr>\n    <tr>\n      <th>14</th>\n      <td>potatoes</td>\n      <td>3794</td>\n      <td>-0.314641</td>\n      <td>-0.065424</td>\n      <td>-0.253764</td>\n      <td>-0.111170</td>\n      <td>0.185246</td>\n    </tr>\n    <tr>\n      <th>15</th>\n      <td>zucchini</td>\n      <td>10301</td>\n      <td>-0.338570</td>\n      <td>-0.096983</td>\n      <td>-0.175411</td>\n      <td>-0.125941</td>\n      <td>0.181125</td>\n    </tr>\n    <tr>\n      <th>16</th>\n      <td>pear</td>\n      <td>9364</td>\n      <td>-0.353398</td>\n      <td>-0.018409</td>\n      <td>-0.259900</td>\n      <td>-0.102486</td>\n      <td>0.138302</td>\n    </tr>\n    <tr>\n      <th>17</th>\n      <td>broccoli</td>\n      <td>8096</td>\n      <td>-0.363500</td>\n      <td>-0.067477</td>\n      <td>-0.185679</td>\n      <td>-0.098607</td>\n      <td>0.133579</td>\n    </tr>\n    <tr>\n      <th>18</th>\n      <td>pumpkin</td>\n      <td>5440</td>\n      <td>-0.371667</td>\n      <td>-0.107092</td>\n      <td>-0.216075</td>\n      <td>-0.174214</td>\n      <td>0.197127</td>\n    </tr>\n    <tr>\n      <th>19</th>\n      <td>salad</td>\n      <td>3147</td>\n      <td>-0.387052</td>\n      <td>-0.012444</td>\n      <td>-0.163693</td>\n      <td>-0.095411</td>\n      <td>0.092281</td>\n    </tr>\n  </tbody>\n</table>\n</div>"
     },
     "metadata": {},
     "execution_count": 128
    }
   ],
   "source": [
    "google_candidates.head(20)"
   ]
  },
  {
   "cell_type": "code",
   "execution_count": 129,
   "metadata": {},
   "outputs": [
    {
     "output_type": "execute_result",
     "data": {
      "text/plain": "        word  frequency  goodness  assassin_minimax  foes_minimax  \\\n0       chef       4303 -0.556660         -0.071438     -0.138529   \n1        eat        746 -0.559276         -0.131789     -0.159909   \n2    kitchen        968 -0.562731          0.001944     -0.077786   \n3    orchard      11733 -0.746116         -0.035450     -0.183111   \n4       bake       5357 -0.748544         -0.037364     -0.177547   \n5      cider       9085 -0.755276          0.028723     -0.058438   \n6       oven       2679 -0.769933          0.017478     -0.078304   \n7      baker      10678 -0.773504          0.025146     -0.143901   \n8       peel       6693 -0.798147         -0.089701     -0.165754   \n9       pear       9364 -0.809038         -0.123308     -0.220893   \n10  browning      16069 -0.831559         -0.051464     -0.110410   \n11    recipe       1228 -0.870648         -0.002792     -0.132691   \n12      dish       2490 -0.882301         -0.051696     -0.129037   \n13       pie       3544 -0.885051         -0.062546     -0.118587   \n14    supper       8145 -0.890636         -0.008211     -0.089149   \n15      maid       6942 -0.891287          0.028657     -0.077245   \n16   dessert       4671 -0.902407         -0.023981     -0.156200   \n17    quince      23478 -0.904682         -0.049870     -0.161379   \n18       ate       3379 -0.922782         -0.132598     -0.142694   \n19    dinner       1134 -0.925719         -0.044422     -0.078318   \n\n    neutrals_minimax  variance  \n0          -0.017577  0.073585  \n1          -0.155724  0.180724  \n2          -0.063312  0.043206  \n3          -0.168977  0.166694  \n4          -0.139399  0.055271  \n5          -0.140437  0.081279  \n6          -0.083453  0.049953  \n7          -0.044283  0.065608  \n8          -0.168138  0.113583  \n9          -0.136809  0.149193  \n10         -0.088620  0.070148  \n11         -0.080426  0.074860  \n12         -0.113667  0.090909  \n13         -0.061117  0.077076  \n14         -0.079176  0.084991  \n15         -0.057314  0.114467  \n16         -0.094420  0.064143  \n17         -0.106555  0.080339  \n18         -0.081707  0.156772  \n19         -0.139795  0.052656  ",
      "text/html": "<div>\n<style scoped>\n    .dataframe tbody tr th:only-of-type {\n        vertical-align: middle;\n    }\n\n    .dataframe tbody tr th {\n        vertical-align: top;\n    }\n\n    .dataframe thead th {\n        text-align: right;\n    }\n</style>\n<table border=\"1\" class=\"dataframe\">\n  <thead>\n    <tr style=\"text-align: right;\">\n      <th></th>\n      <th>word</th>\n      <th>frequency</th>\n      <th>goodness</th>\n      <th>assassin_minimax</th>\n      <th>foes_minimax</th>\n      <th>neutrals_minimax</th>\n      <th>variance</th>\n    </tr>\n  </thead>\n  <tbody>\n    <tr>\n      <th>0</th>\n      <td>chef</td>\n      <td>4303</td>\n      <td>-0.556660</td>\n      <td>-0.071438</td>\n      <td>-0.138529</td>\n      <td>-0.017577</td>\n      <td>0.073585</td>\n    </tr>\n    <tr>\n      <th>1</th>\n      <td>eat</td>\n      <td>746</td>\n      <td>-0.559276</td>\n      <td>-0.131789</td>\n      <td>-0.159909</td>\n      <td>-0.155724</td>\n      <td>0.180724</td>\n    </tr>\n    <tr>\n      <th>2</th>\n      <td>kitchen</td>\n      <td>968</td>\n      <td>-0.562731</td>\n      <td>0.001944</td>\n      <td>-0.077786</td>\n      <td>-0.063312</td>\n      <td>0.043206</td>\n    </tr>\n    <tr>\n      <th>3</th>\n      <td>orchard</td>\n      <td>11733</td>\n      <td>-0.746116</td>\n      <td>-0.035450</td>\n      <td>-0.183111</td>\n      <td>-0.168977</td>\n      <td>0.166694</td>\n    </tr>\n    <tr>\n      <th>4</th>\n      <td>bake</td>\n      <td>5357</td>\n      <td>-0.748544</td>\n      <td>-0.037364</td>\n      <td>-0.177547</td>\n      <td>-0.139399</td>\n      <td>0.055271</td>\n    </tr>\n    <tr>\n      <th>5</th>\n      <td>cider</td>\n      <td>9085</td>\n      <td>-0.755276</td>\n      <td>0.028723</td>\n      <td>-0.058438</td>\n      <td>-0.140437</td>\n      <td>0.081279</td>\n    </tr>\n    <tr>\n      <th>6</th>\n      <td>oven</td>\n      <td>2679</td>\n      <td>-0.769933</td>\n      <td>0.017478</td>\n      <td>-0.078304</td>\n      <td>-0.083453</td>\n      <td>0.049953</td>\n    </tr>\n    <tr>\n      <th>7</th>\n      <td>baker</td>\n      <td>10678</td>\n      <td>-0.773504</td>\n      <td>0.025146</td>\n      <td>-0.143901</td>\n      <td>-0.044283</td>\n      <td>0.065608</td>\n    </tr>\n    <tr>\n      <th>8</th>\n      <td>peel</td>\n      <td>6693</td>\n      <td>-0.798147</td>\n      <td>-0.089701</td>\n      <td>-0.165754</td>\n      <td>-0.168138</td>\n      <td>0.113583</td>\n    </tr>\n    <tr>\n      <th>9</th>\n      <td>pear</td>\n      <td>9364</td>\n      <td>-0.809038</td>\n      <td>-0.123308</td>\n      <td>-0.220893</td>\n      <td>-0.136809</td>\n      <td>0.149193</td>\n    </tr>\n    <tr>\n      <th>10</th>\n      <td>browning</td>\n      <td>16069</td>\n      <td>-0.831559</td>\n      <td>-0.051464</td>\n      <td>-0.110410</td>\n      <td>-0.088620</td>\n      <td>0.070148</td>\n    </tr>\n    <tr>\n      <th>11</th>\n      <td>recipe</td>\n      <td>1228</td>\n      <td>-0.870648</td>\n      <td>-0.002792</td>\n      <td>-0.132691</td>\n      <td>-0.080426</td>\n      <td>0.074860</td>\n    </tr>\n    <tr>\n      <th>12</th>\n      <td>dish</td>\n      <td>2490</td>\n      <td>-0.882301</td>\n      <td>-0.051696</td>\n      <td>-0.129037</td>\n      <td>-0.113667</td>\n      <td>0.090909</td>\n    </tr>\n    <tr>\n      <th>13</th>\n      <td>pie</td>\n      <td>3544</td>\n      <td>-0.885051</td>\n      <td>-0.062546</td>\n      <td>-0.118587</td>\n      <td>-0.061117</td>\n      <td>0.077076</td>\n    </tr>\n    <tr>\n      <th>14</th>\n      <td>supper</td>\n      <td>8145</td>\n      <td>-0.890636</td>\n      <td>-0.008211</td>\n      <td>-0.089149</td>\n      <td>-0.079176</td>\n      <td>0.084991</td>\n    </tr>\n    <tr>\n      <th>15</th>\n      <td>maid</td>\n      <td>6942</td>\n      <td>-0.891287</td>\n      <td>0.028657</td>\n      <td>-0.077245</td>\n      <td>-0.057314</td>\n      <td>0.114467</td>\n    </tr>\n    <tr>\n      <th>16</th>\n      <td>dessert</td>\n      <td>4671</td>\n      <td>-0.902407</td>\n      <td>-0.023981</td>\n      <td>-0.156200</td>\n      <td>-0.094420</td>\n      <td>0.064143</td>\n    </tr>\n    <tr>\n      <th>17</th>\n      <td>quince</td>\n      <td>23478</td>\n      <td>-0.904682</td>\n      <td>-0.049870</td>\n      <td>-0.161379</td>\n      <td>-0.106555</td>\n      <td>0.080339</td>\n    </tr>\n    <tr>\n      <th>18</th>\n      <td>ate</td>\n      <td>3379</td>\n      <td>-0.922782</td>\n      <td>-0.132598</td>\n      <td>-0.142694</td>\n      <td>-0.081707</td>\n      <td>0.156772</td>\n    </tr>\n    <tr>\n      <th>19</th>\n      <td>dinner</td>\n      <td>1134</td>\n      <td>-0.925719</td>\n      <td>-0.044422</td>\n      <td>-0.078318</td>\n      <td>-0.139795</td>\n      <td>0.052656</td>\n    </tr>\n  </tbody>\n</table>\n</div>"
     },
     "metadata": {},
     "execution_count": 129
    }
   ],
   "source": [
    "ft_candidates.head(20)"
   ]
  },
  {
   "cell_type": "code",
   "execution_count": 130,
   "metadata": {},
   "outputs": [],
   "source": [
    "def get_final_metrics(word, candidates=[glove_candidates, google_candidates, ft_candidates]):\n",
    "    total_rank = 0\n",
    "    total_variance = 0\n",
    "    total_goodness = 0\n",
    "    for candidate_df in candidates:\n",
    "        word_select = candidate_df['word'] == word\n",
    "        rank = candidate_df.index[word_select].tolist()[0]\n",
    "        total_rank = total_rank + rank\n",
    "        variance = candidate_df[word_select].variance.tolist()[0]\n",
    "        total_variance = total_variance + variance\n",
    "        goodness = candidate_df[word_select].goodness.tolist()[0]\n",
    "        total_goodness = total_goodness + goodness\n",
    "    return pd.Series([total_rank, total_variance, total_goodness])"
   ]
  },
  {
   "cell_type": "code",
   "execution_count": 131,
   "metadata": {
    "tags": []
   },
   "outputs": [],
   "source": [
    "size = 25\n",
    "top_candidate_words = glove_candidates.word.tolist()[:size] + google_candidates.word.tolist()[:size] + ft_candidates.word.tolist()[:size]\n",
    "final_candidates = pd.DataFrame({'word': top_candidate_words})\n",
    "final_candidates[['rank', 'variance', 'goodness']] = final_candidates.word.apply(lambda word: get_final_metrics(word))\n",
    "final_candidates = final_candidates.drop_duplicates(subset=['word'])"
   ]
  },
  {
   "cell_type": "code",
   "execution_count": 132,
   "metadata": {},
   "outputs": [
    {
     "output_type": "execute_result",
     "data": {
      "text/plain": "           word    rank  variance  goodness\n0          bake     7.0  0.223700 -0.344135\n1          dish    45.0  0.210677 -1.079335\n2      potatoes    58.0  0.361431 -0.887600\n3          oven    59.0  0.283982 -1.052629\n4        baking    64.0  0.299455 -0.886112\n5       rhubarb    65.0  0.325306 -1.117230\n6       dessert    65.0  0.325634 -1.225372\n7         salad    72.0  0.278040 -1.347241\n8        recipe    76.0  0.293170 -1.267907\n9        pastry    78.0  0.172149 -1.305648\n10        saute    80.0  0.405842 -1.350454\n11         chef    87.0  0.287293 -1.323379\n12        sauce    89.0  0.310941 -1.380334\n13    asparagus    97.0  0.355843 -1.149167\n14    delicious   107.0  0.306984 -1.673182\n15        roast   110.0  0.460567 -1.530469\n16          eat   114.0  0.590897 -1.176174\n17    casserole   124.0  0.284601 -1.451715\n18       tomato   136.0  0.356438 -1.707578\n19         soup   152.0  0.375907 -1.717643\n20      skillet   160.0  0.314689 -1.777069\n21       potato   161.0  0.416440 -1.677481\n22         pear   169.0  0.478920 -1.779114\n23     broccoli   170.0  0.348835 -1.740355\n24          fry   172.0  0.335217 -1.853475\n25      kitchen   196.0  0.320773 -1.791159\n26          pie   211.0  0.476537 -1.713593\n27        baker   218.0  0.384118 -1.976602\n28        baked   228.0  0.238474 -1.721863\n29        cider   231.0  0.304799 -1.868746\n30  cauliflower   239.0  0.254098 -1.631315\n31     zucchini   248.0  0.362481 -1.657966\n32      cabbage   255.0  0.513092 -1.716095\n33        chard   268.0  0.389625 -2.113583\n34      pumpkin   287.0  0.556162 -2.149076\n35     eggplant   295.0  0.369497 -1.749394\n36       quince   297.0  0.325940 -2.220014\n37        onion   313.0  0.469803 -1.313544\n38      chicken   313.0  0.571906 -2.211907\n39     browning   346.0  0.325695 -2.466201\n40        bread   399.0  0.335339 -2.279174\n41         peel   415.0  0.242539 -2.571095\n42       supper   434.0  0.191981 -2.735496\n43       dinner   449.0  0.221233 -2.744943\n44          ate   462.0  0.622391 -2.796113\n45        stove   480.0  0.263073 -2.811713\n46       garlic   487.0  0.332301 -1.864554\n47       cheese   561.0  0.330027 -2.498340\n48        bacon   621.0  0.392649 -2.271105\n49      orchard   628.0  0.480537 -2.980046\n50      ravioli   750.0  0.464921 -2.797673\n51       butter   877.0  0.489054 -2.840674\n52    artichoke  1486.0  0.336675 -2.771042\n53  housekeeper  2675.0  0.308047 -4.770920\n54         maid  3216.0  0.438256 -4.714714",
      "text/html": "<div>\n<style scoped>\n    .dataframe tbody tr th:only-of-type {\n        vertical-align: middle;\n    }\n\n    .dataframe tbody tr th {\n        vertical-align: top;\n    }\n\n    .dataframe thead th {\n        text-align: right;\n    }\n</style>\n<table border=\"1\" class=\"dataframe\">\n  <thead>\n    <tr style=\"text-align: right;\">\n      <th></th>\n      <th>word</th>\n      <th>rank</th>\n      <th>variance</th>\n      <th>goodness</th>\n    </tr>\n  </thead>\n  <tbody>\n    <tr>\n      <th>0</th>\n      <td>bake</td>\n      <td>7.0</td>\n      <td>0.223700</td>\n      <td>-0.344135</td>\n    </tr>\n    <tr>\n      <th>1</th>\n      <td>dish</td>\n      <td>45.0</td>\n      <td>0.210677</td>\n      <td>-1.079335</td>\n    </tr>\n    <tr>\n      <th>2</th>\n      <td>potatoes</td>\n      <td>58.0</td>\n      <td>0.361431</td>\n      <td>-0.887600</td>\n    </tr>\n    <tr>\n      <th>3</th>\n      <td>oven</td>\n      <td>59.0</td>\n      <td>0.283982</td>\n      <td>-1.052629</td>\n    </tr>\n    <tr>\n      <th>4</th>\n      <td>baking</td>\n      <td>64.0</td>\n      <td>0.299455</td>\n      <td>-0.886112</td>\n    </tr>\n    <tr>\n      <th>5</th>\n      <td>rhubarb</td>\n      <td>65.0</td>\n      <td>0.325306</td>\n      <td>-1.117230</td>\n    </tr>\n    <tr>\n      <th>6</th>\n      <td>dessert</td>\n      <td>65.0</td>\n      <td>0.325634</td>\n      <td>-1.225372</td>\n    </tr>\n    <tr>\n      <th>7</th>\n      <td>salad</td>\n      <td>72.0</td>\n      <td>0.278040</td>\n      <td>-1.347241</td>\n    </tr>\n    <tr>\n      <th>8</th>\n      <td>recipe</td>\n      <td>76.0</td>\n      <td>0.293170</td>\n      <td>-1.267907</td>\n    </tr>\n    <tr>\n      <th>9</th>\n      <td>pastry</td>\n      <td>78.0</td>\n      <td>0.172149</td>\n      <td>-1.305648</td>\n    </tr>\n    <tr>\n      <th>10</th>\n      <td>saute</td>\n      <td>80.0</td>\n      <td>0.405842</td>\n      <td>-1.350454</td>\n    </tr>\n    <tr>\n      <th>11</th>\n      <td>chef</td>\n      <td>87.0</td>\n      <td>0.287293</td>\n      <td>-1.323379</td>\n    </tr>\n    <tr>\n      <th>12</th>\n      <td>sauce</td>\n      <td>89.0</td>\n      <td>0.310941</td>\n      <td>-1.380334</td>\n    </tr>\n    <tr>\n      <th>13</th>\n      <td>asparagus</td>\n      <td>97.0</td>\n      <td>0.355843</td>\n      <td>-1.149167</td>\n    </tr>\n    <tr>\n      <th>14</th>\n      <td>delicious</td>\n      <td>107.0</td>\n      <td>0.306984</td>\n      <td>-1.673182</td>\n    </tr>\n    <tr>\n      <th>15</th>\n      <td>roast</td>\n      <td>110.0</td>\n      <td>0.460567</td>\n      <td>-1.530469</td>\n    </tr>\n    <tr>\n      <th>16</th>\n      <td>eat</td>\n      <td>114.0</td>\n      <td>0.590897</td>\n      <td>-1.176174</td>\n    </tr>\n    <tr>\n      <th>17</th>\n      <td>casserole</td>\n      <td>124.0</td>\n      <td>0.284601</td>\n      <td>-1.451715</td>\n    </tr>\n    <tr>\n      <th>18</th>\n      <td>tomato</td>\n      <td>136.0</td>\n      <td>0.356438</td>\n      <td>-1.707578</td>\n    </tr>\n    <tr>\n      <th>19</th>\n      <td>soup</td>\n      <td>152.0</td>\n      <td>0.375907</td>\n      <td>-1.717643</td>\n    </tr>\n    <tr>\n      <th>20</th>\n      <td>skillet</td>\n      <td>160.0</td>\n      <td>0.314689</td>\n      <td>-1.777069</td>\n    </tr>\n    <tr>\n      <th>21</th>\n      <td>potato</td>\n      <td>161.0</td>\n      <td>0.416440</td>\n      <td>-1.677481</td>\n    </tr>\n    <tr>\n      <th>22</th>\n      <td>pear</td>\n      <td>169.0</td>\n      <td>0.478920</td>\n      <td>-1.779114</td>\n    </tr>\n    <tr>\n      <th>23</th>\n      <td>broccoli</td>\n      <td>170.0</td>\n      <td>0.348835</td>\n      <td>-1.740355</td>\n    </tr>\n    <tr>\n      <th>24</th>\n      <td>fry</td>\n      <td>172.0</td>\n      <td>0.335217</td>\n      <td>-1.853475</td>\n    </tr>\n    <tr>\n      <th>25</th>\n      <td>kitchen</td>\n      <td>196.0</td>\n      <td>0.320773</td>\n      <td>-1.791159</td>\n    </tr>\n    <tr>\n      <th>26</th>\n      <td>pie</td>\n      <td>211.0</td>\n      <td>0.476537</td>\n      <td>-1.713593</td>\n    </tr>\n    <tr>\n      <th>27</th>\n      <td>baker</td>\n      <td>218.0</td>\n      <td>0.384118</td>\n      <td>-1.976602</td>\n    </tr>\n    <tr>\n      <th>28</th>\n      <td>baked</td>\n      <td>228.0</td>\n      <td>0.238474</td>\n      <td>-1.721863</td>\n    </tr>\n    <tr>\n      <th>29</th>\n      <td>cider</td>\n      <td>231.0</td>\n      <td>0.304799</td>\n      <td>-1.868746</td>\n    </tr>\n    <tr>\n      <th>30</th>\n      <td>cauliflower</td>\n      <td>239.0</td>\n      <td>0.254098</td>\n      <td>-1.631315</td>\n    </tr>\n    <tr>\n      <th>31</th>\n      <td>zucchini</td>\n      <td>248.0</td>\n      <td>0.362481</td>\n      <td>-1.657966</td>\n    </tr>\n    <tr>\n      <th>32</th>\n      <td>cabbage</td>\n      <td>255.0</td>\n      <td>0.513092</td>\n      <td>-1.716095</td>\n    </tr>\n    <tr>\n      <th>33</th>\n      <td>chard</td>\n      <td>268.0</td>\n      <td>0.389625</td>\n      <td>-2.113583</td>\n    </tr>\n    <tr>\n      <th>34</th>\n      <td>pumpkin</td>\n      <td>287.0</td>\n      <td>0.556162</td>\n      <td>-2.149076</td>\n    </tr>\n    <tr>\n      <th>35</th>\n      <td>eggplant</td>\n      <td>295.0</td>\n      <td>0.369497</td>\n      <td>-1.749394</td>\n    </tr>\n    <tr>\n      <th>36</th>\n      <td>quince</td>\n      <td>297.0</td>\n      <td>0.325940</td>\n      <td>-2.220014</td>\n    </tr>\n    <tr>\n      <th>37</th>\n      <td>onion</td>\n      <td>313.0</td>\n      <td>0.469803</td>\n      <td>-1.313544</td>\n    </tr>\n    <tr>\n      <th>38</th>\n      <td>chicken</td>\n      <td>313.0</td>\n      <td>0.571906</td>\n      <td>-2.211907</td>\n    </tr>\n    <tr>\n      <th>39</th>\n      <td>browning</td>\n      <td>346.0</td>\n      <td>0.325695</td>\n      <td>-2.466201</td>\n    </tr>\n    <tr>\n      <th>40</th>\n      <td>bread</td>\n      <td>399.0</td>\n      <td>0.335339</td>\n      <td>-2.279174</td>\n    </tr>\n    <tr>\n      <th>41</th>\n      <td>peel</td>\n      <td>415.0</td>\n      <td>0.242539</td>\n      <td>-2.571095</td>\n    </tr>\n    <tr>\n      <th>42</th>\n      <td>supper</td>\n      <td>434.0</td>\n      <td>0.191981</td>\n      <td>-2.735496</td>\n    </tr>\n    <tr>\n      <th>43</th>\n      <td>dinner</td>\n      <td>449.0</td>\n      <td>0.221233</td>\n      <td>-2.744943</td>\n    </tr>\n    <tr>\n      <th>44</th>\n      <td>ate</td>\n      <td>462.0</td>\n      <td>0.622391</td>\n      <td>-2.796113</td>\n    </tr>\n    <tr>\n      <th>45</th>\n      <td>stove</td>\n      <td>480.0</td>\n      <td>0.263073</td>\n      <td>-2.811713</td>\n    </tr>\n    <tr>\n      <th>46</th>\n      <td>garlic</td>\n      <td>487.0</td>\n      <td>0.332301</td>\n      <td>-1.864554</td>\n    </tr>\n    <tr>\n      <th>47</th>\n      <td>cheese</td>\n      <td>561.0</td>\n      <td>0.330027</td>\n      <td>-2.498340</td>\n    </tr>\n    <tr>\n      <th>48</th>\n      <td>bacon</td>\n      <td>621.0</td>\n      <td>0.392649</td>\n      <td>-2.271105</td>\n    </tr>\n    <tr>\n      <th>49</th>\n      <td>orchard</td>\n      <td>628.0</td>\n      <td>0.480537</td>\n      <td>-2.980046</td>\n    </tr>\n    <tr>\n      <th>50</th>\n      <td>ravioli</td>\n      <td>750.0</td>\n      <td>0.464921</td>\n      <td>-2.797673</td>\n    </tr>\n    <tr>\n      <th>51</th>\n      <td>butter</td>\n      <td>877.0</td>\n      <td>0.489054</td>\n      <td>-2.840674</td>\n    </tr>\n    <tr>\n      <th>52</th>\n      <td>artichoke</td>\n      <td>1486.0</td>\n      <td>0.336675</td>\n      <td>-2.771042</td>\n    </tr>\n    <tr>\n      <th>53</th>\n      <td>housekeeper</td>\n      <td>2675.0</td>\n      <td>0.308047</td>\n      <td>-4.770920</td>\n    </tr>\n    <tr>\n      <th>54</th>\n      <td>maid</td>\n      <td>3216.0</td>\n      <td>0.438256</td>\n      <td>-4.714714</td>\n    </tr>\n  </tbody>\n</table>\n</div>"
     },
     "metadata": {},
     "execution_count": 132
    }
   ],
   "source": [
    "final_candidates.sort_values(['rank', 'variance', 'goodness'], ascending=[True,True,False]).reset_index(drop=True)"
   ]
  },
  {
   "cell_type": "code",
   "execution_count": 152,
   "metadata": {},
   "outputs": [],
   "source": [
    "top_clues = ['Rab', 'Rosalia', 'Tema', 'Lilith', 'hereinafter', 'Caesarean', 'billable', 'Amara', 'Judaica', 'Estella']\n",
    "top_friends = ['angel'] \n",
    "low_friends = ['match', 'poison', 'deck', 'scientist', 'dragon', 'horse', 'bow']\n",
    "foes = ['horse', 'scientist', 'match', 'angel', 'deck', 'poison', 'bow', 'dragon', 'canada']\n",
    "neutrals = ['china', 'hole', 'lock', 'eye', 'apple', 'knife']\n",
    "assassin = ['bark']\n",
    "output = pd.DataFrame(columns=['top_clues', 'top_friends', 'low_friends', 'foes', 'neutrals', 'assassin'])"
   ]
  },
  {
   "cell_type": "code",
   "execution_count": 154,
   "metadata": {},
   "outputs": [
    {
     "output_type": "execute_result",
     "data": {
      "text/plain": "                                           top_clues top_friends  \\\n2  cider baker peel browning supper maid ate dinn...       angel   \n4  cider baker peel browning supper maid ate dinn...       angel   \n\n                                    low_friends  \\\n2  match poison deck scientist dragon horse bow   \n4  match poison deck scientist dragon horse bow   \n\n                                                foes  \\\n2  horse scientist match angel deck poison bow dr...   \n4  horse scientist match angel deck poison bow dr...   \n\n                          neutrals assassin  \n2  china hole lock eye apple knife     bark  \n4  china hole lock eye apple knife     bark  ",
      "text/html": "<div>\n<style scoped>\n    .dataframe tbody tr th:only-of-type {\n        vertical-align: middle;\n    }\n\n    .dataframe tbody tr th {\n        vertical-align: top;\n    }\n\n    .dataframe thead th {\n        text-align: right;\n    }\n</style>\n<table border=\"1\" class=\"dataframe\">\n  <thead>\n    <tr style=\"text-align: right;\">\n      <th></th>\n      <th>top_clues</th>\n      <th>top_friends</th>\n      <th>low_friends</th>\n      <th>foes</th>\n      <th>neutrals</th>\n      <th>assassin</th>\n    </tr>\n  </thead>\n  <tbody>\n    <tr>\n      <th>2</th>\n      <td>cider baker peel browning supper maid ate dinn...</td>\n      <td>angel</td>\n      <td>match poison deck scientist dragon horse bow</td>\n      <td>horse scientist match angel deck poison bow dr...</td>\n      <td>china hole lock eye apple knife</td>\n      <td>bark</td>\n    </tr>\n    <tr>\n      <th>4</th>\n      <td>cider baker peel browning supper maid ate dinn...</td>\n      <td>angel</td>\n      <td>match poison deck scientist dragon horse bow</td>\n      <td>horse scientist match angel deck poison bow dr...</td>\n      <td>china hole lock eye apple knife</td>\n      <td>bark</td>\n    </tr>\n  </tbody>\n</table>\n</div>"
     },
     "metadata": {},
     "execution_count": 154
    }
   ],
   "source": [
    "\n",
    "output.loc[4] = [\n",
    "    \" \".join(final_candidates.word.tolist()[-10:]),\n",
    "    \" \".join(top_friends),\n",
    "    \" \".join(low_friends),\n",
    "    \" \".join(foes),\n",
    "    \" \".join(neutrals),\n",
    "    \" \".join(assassin)\n",
    "    ]\n",
    "output"
   ]
  },
  {
   "cell_type": "code",
   "execution_count": 155,
   "metadata": {},
   "outputs": [
    {
     "output_type": "execute_result",
     "data": {
      "text/plain": "datetime.datetime(2020, 7, 31, 12, 29, 1, 478521)"
     },
     "metadata": {},
     "execution_count": 155
    }
   ],
   "source": [
    "from datetime import datetime\n",
    "now = datetime.now()\n",
    "now"
   ]
  },
  {
   "cell_type": "code",
   "execution_count": 157,
   "metadata": {},
   "outputs": [
    {
     "output_type": "execute_result",
     "data": {
      "text/plain": "'07-31-12-29'"
     },
     "metadata": {},
     "execution_count": 157
    }
   ],
   "source": [
    "now.strftime(\"%m-%d-%H-%M\")"
   ]
  },
  {
   "cell_type": "code",
   "execution_count": 159,
   "metadata": {},
   "outputs": [
    {
     "output_type": "execute_result",
     "data": {
      "text/plain": "       word  frequency  goodness         assassin_dist  assassin_minimax  \\\n0  crimping        130  0.462430  [0.9214597285159154]          0.063558   \n1  latching         80  0.380382   [0.908506190592582]          0.035908   \n2     crimp         51  0.321358  [0.9051461713885871]          0.030612   \n\n   foes_minimax  neutrals_minimax  variance  \n0     -0.140135         -0.146321  0.042028  \n1     -0.111558         -0.205393  0.067160  \n2     -0.214817         -0.237900  0.085633  ",
      "text/html": "<div>\n<style scoped>\n    .dataframe tbody tr th:only-of-type {\n        vertical-align: middle;\n    }\n\n    .dataframe tbody tr th {\n        vertical-align: top;\n    }\n\n    .dataframe thead th {\n        text-align: right;\n    }\n</style>\n<table border=\"1\" class=\"dataframe\">\n  <thead>\n    <tr style=\"text-align: right;\">\n      <th></th>\n      <th>word</th>\n      <th>frequency</th>\n      <th>goodness</th>\n      <th>assassin_dist</th>\n      <th>assassin_minimax</th>\n      <th>foes_minimax</th>\n      <th>neutrals_minimax</th>\n      <th>variance</th>\n    </tr>\n  </thead>\n  <tbody>\n    <tr>\n      <th>0</th>\n      <td>crimping</td>\n      <td>130</td>\n      <td>0.462430</td>\n      <td>[0.9214597285159154]</td>\n      <td>0.063558</td>\n      <td>-0.140135</td>\n      <td>-0.146321</td>\n      <td>0.042028</td>\n    </tr>\n    <tr>\n      <th>1</th>\n      <td>latching</td>\n      <td>80</td>\n      <td>0.380382</td>\n      <td>[0.908506190592582]</td>\n      <td>0.035908</td>\n      <td>-0.111558</td>\n      <td>-0.205393</td>\n      <td>0.067160</td>\n    </tr>\n    <tr>\n      <th>2</th>\n      <td>crimp</td>\n      <td>51</td>\n      <td>0.321358</td>\n      <td>[0.9051461713885871]</td>\n      <td>0.030612</td>\n      <td>-0.214817</td>\n      <td>-0.237900</td>\n      <td>0.085633</td>\n    </tr>\n  </tbody>\n</table>\n</div>"
     },
     "metadata": {},
     "execution_count": 159
    }
   ],
   "source": [
    "candidate_df = pd.read_pickle('./output/candidate_df.pkl')\n",
    "get_candidates_df"
   ]
  },
  {
   "cell_type": "code",
   "execution_count": 167,
   "metadata": {},
   "outputs": [
    {
     "output_type": "execute_result",
     "data": {
      "text/plain": "numpy.int64"
     },
     "metadata": {},
     "execution_count": 167
    }
   ],
   "source": [
    "word_select = candidate_df['word'] == 'latching'\n",
    "# candidate_df[word_select].frequency.iloc[0]\n",
    "candidate_df[word_select].index[0]"
   ]
  },
  {
   "cell_type": "code",
   "execution_count": 1,
   "metadata": {},
   "outputs": [
    {
     "output_type": "execute_result",
     "data": {
      "text/plain": "['a', 'b']"
     },
     "metadata": {},
     "execution_count": 1
    }
   ],
   "source": [
    "test = ['a', 'b', 'c', 'd', 'e', 'f', 'g']\n",
    "test[:2]"
   ]
  },
  {
   "cell_type": "code",
   "execution_count": null,
   "metadata": {},
   "outputs": [],
   "source": []
  }
 ],
 "metadata": {
  "kernelspec": {
   "display_name": "Python 3.7.5 64-bit",
   "language": "python",
   "name": "python37564bit47dcc3090c5641289829d58f6b71605f"
  },
  "language_info": {
   "codemirror_mode": {
    "name": "ipython",
    "version": 3
   },
   "file_extension": ".py",
   "mimetype": "text/x-python",
   "name": "python",
   "nbconvert_exporter": "python",
   "pygments_lexer": "ipython3",
   "version": "3.8.5-final"
  }
 },
 "nbformat": 4,
 "nbformat_minor": 2
}